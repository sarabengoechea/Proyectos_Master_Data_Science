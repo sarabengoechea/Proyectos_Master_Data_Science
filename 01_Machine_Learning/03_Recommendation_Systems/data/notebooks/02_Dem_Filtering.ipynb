{
 "cells": [
  {
   "cell_type": "markdown",
   "metadata": {},
   "source": [
    "# Sistemas de Recomendación - Demographic Filtering\n",
    "Beatriz Cárdaba y Sara Bengoechea\n",
    "\n",
    "- Librerías\n",
    "- Data Set\n",
    "- Teoría\n",
    "- Definición algortimo\n",
    "- Pueba de algoritmo\n",
    "\n",
    "\n",
    "### Librerías"
   ]
  },
  {
   "cell_type": "code",
   "execution_count": 2,
   "metadata": {},
   "outputs": [],
   "source": [
    "import pandas as pd\n",
    "import numpy as np\n",
    "from scipy.sparse import csr_matrix\n",
    "from sklearn.neighbors import NearestNeighbors\n",
    "import matplotlib.pyplot as plt\n",
    "import seaborn as sns\n",
    "from ast import literal_eval\n",
    "from wordcloud import WordCloud, STOPWORDS\n",
    "import ast\n",
    "import plotly\n",
    "import plotly.offline as py"
   ]
  },
  {
   "cell_type": "markdown",
   "metadata": {},
   "source": [
    "### Data set Utilizado:\n",
    "Importamos los data set que se va a utilizar para este sistema de recomendación:\n",
    " - Movies: nos dará datos genereles de las películas.\n",
    " - credits: nos facilita los siguintes datos:\n",
    "         - cast\n",
    "         - crew"
   ]
  },
  {
   "cell_type": "code",
   "execution_count": 3,
   "metadata": {},
   "outputs": [
    {
     "name": "stderr",
     "output_type": "stream",
     "text": [
      "/opt/anaconda3/envs/rec_sys_env/lib/python3.8/site-packages/IPython/core/interactiveshell.py:3146: DtypeWarning:\n",
      "\n",
      "Columns (10) have mixed types.Specify dtype option on import or set low_memory=False.\n",
      "\n"
     ]
    }
   ],
   "source": [
    "\n",
    "\n",
    "movies = pd.read_csv(\"../data/01_raw/movies_metadata.csv\")"
   ]
  },
  {
   "cell_type": "code",
   "execution_count": 4,
   "metadata": {},
   "outputs": [],
   "source": [
    "credits = pd.read_csv(\"../data/01_raw/credits.csv\")\n",
    "credits['id']= credits['id'].astype(str) # pasamos id a tipo string ya el numero es identificativo cono un DNI"
   ]
  },
  {
   "cell_type": "code",
   "execution_count": 5,
   "metadata": {},
   "outputs": [],
   "source": [
    "movies = movies.merge(credits,on='id') # unimos las dos tablas importadas para tener la info de credits en la tabla movies"
   ]
  },
  {
   "cell_type": "code",
   "execution_count": 6,
   "metadata": {},
   "outputs": [
    {
     "data": {
      "text/plain": [
       "adult                     object\n",
       "belongs_to_collection     object\n",
       "budget                    object\n",
       "genres                    object\n",
       "homepage                  object\n",
       "id                        object\n",
       "imdb_id                   object\n",
       "original_language         object\n",
       "original_title            object\n",
       "overview                  object\n",
       "popularity                object\n",
       "poster_path               object\n",
       "production_companies      object\n",
       "production_countries      object\n",
       "release_date              object\n",
       "revenue                  float64\n",
       "runtime                  float64\n",
       "spoken_languages          object\n",
       "status                    object\n",
       "tagline                   object\n",
       "title                     object\n",
       "video                     object\n",
       "vote_average             float64\n",
       "vote_count               float64\n",
       "cast                      object\n",
       "crew                      object\n",
       "dtype: object"
      ]
     },
     "execution_count": 6,
     "metadata": {},
     "output_type": "execute_result"
    }
   ],
   "source": [
    "movies.dtypes"
   ]
  },
  {
   "cell_type": "markdown",
   "metadata": {},
   "source": [
    "## 1. Filtrado demográfico\n",
    "Ofrecen recomendaciones generalizadas a cada usuario, basadas en la popularidad del artículo y/o el género. El sistema recomienda los mismos artículos a usuarios con características demográficas similares. Dado que cada usuario es diferente, se considera que este enfoque es demasiado simple. La idea básica de este sistema es que los artículos que son más populares y aclamados por la crítica tendrán una mayor probabilidad de ser apreciados por el público medio.\n",
    "\n",
    "\n",
    "\n",
    "**Algoritmo**\n",
    "\n",
    "Decide una métrica de puntuación para anotar o calificar la película. Calcula la puntuación de cada película.\n",
    "Ordena las puntuaciones y recomienda la película mejor valorada a los usuarios.\n",
    "\n",
    "\n",
    "PASO 1\n",
    "\n",
    "Para calificar las películas podemos usar \"voting_average\" como una métrica, pero, promediando las mismas podemos llevar la calificación alta a un nivel bajo como 8.9 y sólo 3 votos no pueden considerar mejor que 7.8 como calificación media para 40 votos. Por lo tanto, utilizando la clasificación ponderada de la IMDB que es :\n",
    "\n",
    "WR = (v/(v+m) R) + (m/(v+m) C)\n",
    "\n",
    "donde,\n",
    "\n",
    "v -> cuenta_votos, el número de votos para la película\n",
    "\n",
    "m -> los votos mínimos requeridos para ser listados en la tabla (percentil 90) = movies['vote_count'].quantile(0.9)\n",
    "\n",
    "R -> vote_average, es el promedio de la calificación de la película.\n",
    "\n",
    "C -> el voto medio en todo el informe = películas['vote_average'].mean"
   ]
  },
  {
   "cell_type": "markdown",
   "metadata": {},
   "source": [
    "La puntuación media de todas las películas es aproximadamente 6 en una escala de 10 (C). El siguiente paso es determinar un valor apropiado para m, el mínimo de votos requeridos para aparecer en la tabla. Usaremos el 90 por ciento como límite. En otras palabras, para que una película aparezca en las listas, debe tener más votos que al menos el 90% de las películas de la lista."
   ]
  },
  {
   "cell_type": "code",
   "execution_count": 7,
   "metadata": {},
   "outputs": [
    {
     "data": {
      "text/plain": [
       "5.618232129131436"
      ]
     },
     "execution_count": 7,
     "metadata": {},
     "output_type": "execute_result"
    }
   ],
   "source": [
    "C = movies['vote_average'].mean()  # la media de los votos de todas las películas\n",
    "C\n"
   ]
  },
  {
   "cell_type": "code",
   "execution_count": 8,
   "metadata": {},
   "outputs": [
    {
     "data": {
      "text/plain": [
       "160.0"
      ]
     },
     "execution_count": 8,
     "metadata": {},
     "output_type": "execute_result"
    }
   ],
   "source": [
    "m = movies['vote_count'].quantile(0.9) # establecemos el mínimo de votos requeridos para que aparezxcaa en la tabla\n",
    "m # usamos aquellos que estén en el percentil 0.9, excluimos el 0.1 que menos votos tiene"
   ]
  },
  {
   "cell_type": "markdown",
   "metadata": {},
   "source": [
    "Ahora, necesitamos calcular nuestra métrica para cada película calificada. Para ello, definiremos una función, weighted_rating() y definiremos una nueva puntuación de la película, de la cual calcularemos el valor aplicando esta función a nuestro DataFrame de películas cualificadas"
   ]
  },
  {
   "cell_type": "code",
   "execution_count": 9,
   "metadata": {},
   "outputs": [],
   "source": [
    "\n",
    "def imbd_weighted_ratings(movies, m=m, C=C):\n",
    "    v =movies[\"vote_count\"] # el número de votos de cada película\n",
    "    R =movies[\"vote_average\"]# la calificación de cada pelicula\n",
    "    left_term = v /(v + m) #  (v/(v+m) R)\n",
    "    right_term = m /(v + m) # (m/(v+m) \n",
    "    return left_term* R + right_term* C # devueleve el cáculo de la funcón completa: WR = (v/(v+m) R) + (m/(v+m) C)\n"
   ]
  },
  {
   "cell_type": "markdown",
   "metadata": {},
   "source": [
    "Seleccionamos aquellas peliculas que tienen más de de los votos necesarios para poder ser recomendades, lo hemos calculado con el percentil 90"
   ]
  },
  {
   "cell_type": "code",
   "execution_count": 10,
   "metadata": {},
   "outputs": [],
   "source": [
    "qualified_movies  = movies.copy().loc[movies[\"vote_count\"] >= m] # aquellas que tengan mas de los votos establecidos en m"
   ]
  },
  {
   "cell_type": "markdown",
   "metadata": {},
   "source": [
    "\n",
    "PASO 2\n",
    "\n",
    "Calculamos el score para cada película."
   ]
  },
  {
   "cell_type": "code",
   "execution_count": 11,
   "metadata": {},
   "outputs": [],
   "source": [
    "qualified_movies[\"imdb_score\"] = qualified_movies.apply(imbd_weighted_ratings, axis = 1)"
   ]
  },
  {
   "cell_type": "markdown",
   "metadata": {},
   "source": [
    "PASO 3\n",
    "\n",
    "Ordenamos las películas en función de su score (imdb_score) de mayor puntuación a menor puntuación media"
   ]
  },
  {
   "cell_type": "code",
   "execution_count": 12,
   "metadata": {},
   "outputs": [],
   "source": [
    "qualified_movies.sort_values(\"imdb_score\", ascending=False, inplace= True)"
   ]
  },
  {
   "cell_type": "markdown",
   "metadata": {},
   "source": [
    "Seleccionamos las columnas que nos interesan para visualizar cuando filtramos"
   ]
  },
  {
   "cell_type": "code",
   "execution_count": 13,
   "metadata": {},
   "outputs": [],
   "source": [
    "filtered_qualified_movies = qualified_movies[['title', 'popularity', 'vote_count','vote_average', \"imdb_score\"]]"
   ]
  },
  {
   "cell_type": "markdown",
   "metadata": {},
   "source": [
    "PASO 4\n",
    "\n",
    "Definimos una función para que nos devuelva la películas mejor calificadas"
   ]
  },
  {
   "cell_type": "code",
   "execution_count": 14,
   "metadata": {},
   "outputs": [],
   "source": [
    "\n",
    "def get_recommendations(k):\n",
    "    return filtered_qualified_movies[:k] # nos devuelve la lista de las películas más recomendas. La lista será de tamaño k"
   ]
  },
  {
   "cell_type": "code",
   "execution_count": 15,
   "metadata": {},
   "outputs": [
    {
     "data": {
      "text/html": [
       "<div>\n",
       "<style scoped>\n",
       "    .dataframe tbody tr th:only-of-type {\n",
       "        vertical-align: middle;\n",
       "    }\n",
       "\n",
       "    .dataframe tbody tr th {\n",
       "        vertical-align: top;\n",
       "    }\n",
       "\n",
       "    .dataframe thead th {\n",
       "        text-align: right;\n",
       "    }\n",
       "</style>\n",
       "<table border=\"1\" class=\"dataframe\">\n",
       "  <thead>\n",
       "    <tr style=\"text-align: right;\">\n",
       "      <th></th>\n",
       "      <th>title</th>\n",
       "      <th>popularity</th>\n",
       "      <th>vote_count</th>\n",
       "      <th>vote_average</th>\n",
       "      <th>imdb_score</th>\n",
       "    </tr>\n",
       "  </thead>\n",
       "  <tbody>\n",
       "    <tr>\n",
       "      <th>314</th>\n",
       "      <td>The Shawshank Redemption</td>\n",
       "      <td>51.6454</td>\n",
       "      <td>8358.0</td>\n",
       "      <td>8.5</td>\n",
       "      <td>8.445870</td>\n",
       "    </tr>\n",
       "    <tr>\n",
       "      <th>837</th>\n",
       "      <td>The Godfather</td>\n",
       "      <td>41.1093</td>\n",
       "      <td>6024.0</td>\n",
       "      <td>8.5</td>\n",
       "      <td>8.425439</td>\n",
       "    </tr>\n",
       "    <tr>\n",
       "      <th>10345</th>\n",
       "      <td>Dilwale Dulhania Le Jayenge</td>\n",
       "      <td>34.457</td>\n",
       "      <td>661.0</td>\n",
       "      <td>9.1</td>\n",
       "      <td>8.421458</td>\n",
       "    </tr>\n",
       "    <tr>\n",
       "      <th>12525</th>\n",
       "      <td>The Dark Knight</td>\n",
       "      <td>123.167</td>\n",
       "      <td>12269.0</td>\n",
       "      <td>8.3</td>\n",
       "      <td>8.265477</td>\n",
       "    </tr>\n",
       "    <tr>\n",
       "      <th>2854</th>\n",
       "      <td>Fight Club</td>\n",
       "      <td>63.8696</td>\n",
       "      <td>9678.0</td>\n",
       "      <td>8.3</td>\n",
       "      <td>8.256385</td>\n",
       "    </tr>\n",
       "  </tbody>\n",
       "</table>\n",
       "</div>"
      ],
      "text/plain": [
       "                             title popularity  vote_count  vote_average  \\\n",
       "314       The Shawshank Redemption    51.6454      8358.0           8.5   \n",
       "837                  The Godfather    41.1093      6024.0           8.5   \n",
       "10345  Dilwale Dulhania Le Jayenge     34.457       661.0           9.1   \n",
       "12525              The Dark Knight    123.167     12269.0           8.3   \n",
       "2854                    Fight Club    63.8696      9678.0           8.3   \n",
       "\n",
       "       imdb_score  \n",
       "314      8.445870  \n",
       "837      8.425439  \n",
       "10345    8.421458  \n",
       "12525    8.265477  \n",
       "2854     8.256385  "
      ]
     },
     "execution_count": 15,
     "metadata": {},
     "output_type": "execute_result"
    }
   ],
   "source": [
    "get_recommendations(5)"
   ]
  },
  {
   "cell_type": "markdown",
   "metadata": {},
   "source": [
    "\n",
    "PROBLEMA DEMOGRAPHIC FILTERING -\n",
    "Los artículos más populares serían los mismos para cada usuario, todos ven las mismas recomendaciones."
   ]
  },
  {
   "cell_type": "markdown",
   "metadata": {},
   "source": [
    "__Bibliografía:__\n",
    " - https://www.analyticsvidhya.com/blog/2020/11/create-your-own-movie-movie-recommendation-system/\n",
    " - https://github.com/Invince11/IMBD-Movie-Recommendation-System/blob/master/Movie-Recommendation.ipynb\n",
    " - https://www.kaggle.com/biphili/movie-recommender-system-for-beginners\n",
    " - https://medium.com/nerd-for-tech/simple-movie-recommendation-system-using-python-e5df3ce58664\n",
    " - https://medium.com/towards-artificial-intelligence/recommendation-system-in-depth-tutorial-with-python-for-netflix-using-collaborative-filtering-533ff8a0e444\n",
    " - https://www.ijert.org/research/recommender-systems-types-of-filtering-techniques-IJERTV3IS110197.pdf\n",
    " \n"
   ]
  }
 ],
 "metadata": {
  "kernelspec": {
   "display_name": "rec_sys_env",
   "language": "python",
   "name": "rec_sys_env"
  },
  "language_info": {
   "codemirror_mode": {
    "name": "ipython",
    "version": 3
   },
   "file_extension": ".py",
   "mimetype": "text/x-python",
   "name": "python",
   "nbconvert_exporter": "python",
   "pygments_lexer": "ipython3",
   "version": "3.8.5"
  }
 },
 "nbformat": 4,
 "nbformat_minor": 4
}
