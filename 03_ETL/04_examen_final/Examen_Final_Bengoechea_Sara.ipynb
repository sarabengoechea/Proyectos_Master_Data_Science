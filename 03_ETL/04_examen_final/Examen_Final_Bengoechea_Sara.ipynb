{
  "nbformat": 4,
  "nbformat_minor": 0,
  "metadata": {
    "kernelspec": {
      "display_name": "Python 3",
      "language": "python",
      "name": "python3"
    },
    "language_info": {
      "codemirror_mode": {
        "name": "ipython",
        "version": 3
      },
      "file_extension": ".py",
      "mimetype": "text/x-python",
      "name": "python",
      "nbconvert_exporter": "python",
      "pygments_lexer": "ipython3",
      "version": "3.7.4"
    },
    "toc": {
      "base_numbering": 1,
      "nav_menu": {},
      "number_sections": true,
      "sideBar": true,
      "skip_h1_title": false,
      "title_cell": "Table of Contents",
      "title_sidebar": "Contents",
      "toc_cell": false,
      "toc_position": {},
      "toc_section_display": true,
      "toc_window_display": true
    },
    "colab": {
      "name": "Examen_Final_Bengoechea_Sara.ipynb",
      "provenance": [],
      "collapsed_sections": []
    }
  },
  "cells": [
    {
      "cell_type": "markdown",
      "metadata": {
        "id": "TZ29xG-pZJ2a"
      },
      "source": [
        "# Examen Final\n",
        "Autora: Sara Bengoechea Rodríguez"
      ]
    },
    {
      "cell_type": "markdown",
      "metadata": {
        "id": "b862Jgy6cfKB"
      },
      "source": [
        "## Metadatos\n",
        "\n",
        "<p> El negocio inmobiliario es uno de los motores de la economía de España, el carácter turístico de nuesta península hace que sean muchos los inversores extranjeros que se decidan por buscar una inversión de bajo riesgos en nuestras ciudades costeras o grandes urbes. \n",
        "Muchas de estas inversiones se hacen sobre grandes bolsas de inmuebles que deben ser analizados previamente para comprobar la rentabilidad del porfolio </p>\n",
        "\n",
        "<!-- <p> En este caso vamos a trabajar con una tabla que contienen información de distintos inmuebles repartidos por una zona específica, sus carácterísticas y su precio </p>  -->"
      ]
    },
    {
      "cell_type": "markdown",
      "metadata": {
        "id": "Xw7gKCaxcfKE"
      },
      "source": [
        "Todas las cuestiones se deben realizar sobre el conjunto de casos que representen viviendas ubicadas en zonas residenciales **(alta, media y baja densidad)**"
      ]
    },
    {
      "cell_type": "markdown",
      "metadata": {
        "id": "J1EaqxjWcfKF"
      },
      "source": [
        "Las variables de las que se compone el dataset son:"
      ]
    },
    {
      "cell_type": "markdown",
      "metadata": {
        "id": "Olrh5iqWcfKF"
      },
      "source": [
        "|NOMBRE VARIABLE|DESCRIPTOR|VALORES|\n",
        "| --- | --- | --- |\n",
        "|Order|Variable de identificación|1 a 2930|\n",
        "|MS Zoning|Zona de ubicación de la vivienda|\"A rural, C comercial, FV residencial flotante, I industrial, RH residencial alta densidad, RL residencial baja densidad, RM residencial media densidad\"|\n",
        "|Lot Frontage|Longitud de la fachada en pies||\n",
        "|Lot Area|Superficie de la vivienda en pies cuadrados||\n",
        "|Land Contour|Contorno del terreno circundante|\"Lvl llano, Bnk Tipo bancal, HLS Ladera, Low Depresión\"|\n",
        "|Land Slope|Tipo de pendiente de la vivienda|\" Gtl pendiente suave, Mod pendiente moderada, Sev fuerte pendiente\"|\n",
        "|Overall Qual|Grado de calidad de materiales y acabado de la vivienda|De 1 (Muy pobre) a 10 (Excelente)|\n",
        "|Year Built|Año de construccion de la vivienda||\n",
        "|Year Remod/Add|Año de última reforma de la vivienda||\n",
        "|Mas Vnr Type|Tipo de revestimiento exterior|\" BrkCmn Ladrillo normal, BrkFace Ladrillo visto, CBlock Bloque de cemento, None Ninguna, Stone Piedra \"|\n",
        "|Exter Qual|Calidad de revestimiento exterior|\"Ex Excelente,Gd Bueno,TA Media,Fa Justo\"|\n",
        "|Bsmt Cond|Estado general del sótano|\"Ex Excelente, Gd Bueno, TA Media, Fa Justo, Po Pobre,Ss sin sótano\"|\n",
        "|Total Bsmt SF|Superficie del sótano en pies cuadrados|\n",
        "|Heating QC|Calidad de la calefacción|\"Ex Excelente,Gd Bueno,TA Media,Fa Justo,Po Pobre\"|\n",
        "|Central Air|Aire acondicionado centralizado|\"N No Y Sí\"|\n",
        "|Full Bath|Número de baños completo en planta||\n",
        "|Half Bath|Número de aseos en planta||\n",
        "|Bedroom AbvGr|Número de dormitorios en planta||\n",
        "|Kitchen AbvGr|Número de cocinas en planta||\n",
        "|Kitchen Qual|Calidad de cocinas|\"Ex Excelente,Gd Bueno,TA Media,Fa Justo,Po Pobre\"|\n",
        "|TotRms AbvGrd|Número total de habitaciones excluidos los cuartos de baño||\n",
        "|Garage Cars|Número de plazas de garaje||\n",
        "|Garage Area|Superficie del garaje|||\n",
        "|Garage Cond|Estado del garaje|\"Ex Excelente,Gd Bueno,TA Media,Fa Justo,Po Pobre,Sg sin garaje\"|\n",
        "|Pool Area|Superficie de la piscina en pies cuadrados|\n",
        "|Pool QC|Calidad de la piscina|\"Ex Excelente,Gd Bueno,TA Media,Fa Justo,Sp no hay piscina\"|\n",
        "|Mo Sold|mes de venta||\n",
        "|Yr Sold|año de venta||\n",
        "|SalePrice|precio de venta en dólares||"
      ]
    },
    {
      "cell_type": "markdown",
      "metadata": {
        "id": "W5buuX_TcfKH"
      },
      "source": [
        "## Inicializar y cargar el contexto spark"
      ]
    },
    {
      "cell_type": "code",
      "metadata": {
        "id": "k0S7uD5Bc2Vr"
      },
      "source": [
        "!apt-get install openjdk-8-jdk-headless -qq > /dev/null\n",
        "!wget -q https://www-us.apache.org/dist/spark/spark-2.4.7/spark-2.4.7-bin-hadoop2.7.tgz\n",
        "!tar xf spark-2.4.7-bin-hadoop2.7.tgz\n",
        "!pip install -q findspark"
      ],
      "execution_count": 1,
      "outputs": []
    },
    {
      "cell_type": "code",
      "metadata": {
        "id": "dnsVHpR8c5JF"
      },
      "source": [
        "import os\n",
        "os.environ[\"JAVA_HOME\"] = \"/usr/lib/jvm/java-8-openjdk-amd64\"\n",
        "os.environ[\"SPARK_HOME\"] = \"/content/spark-2.4.7-bin-hadoop2.7\""
      ],
      "execution_count": 2,
      "outputs": []
    },
    {
      "cell_type": "code",
      "metadata": {
        "id": "IPwvemooc6Co"
      },
      "source": [
        "import findspark\n",
        "findspark.init()\n",
        "from pyspark import SparkContext \n",
        "sc = SparkContext.getOrCreate()\n",
        "from pyspark.sql import SparkSession \n",
        "spark = SparkSession.builder.master(\"local[*]\").getOrCreate()"
      ],
      "execution_count": 3,
      "outputs": []
    },
    {
      "cell_type": "code",
      "metadata": {
        "id": "eTeXKwspdQsC"
      },
      "source": [
        "from pyspark.sql import *\n",
        "from pyspark.sql import SQLContext, functions as F, Row\n",
        "from pyspark.sql.types import *\n",
        "from pyspark.sql.types import StringType, IntegerType"
      ],
      "execution_count": 4,
      "outputs": []
    },
    {
      "cell_type": "markdown",
      "metadata": {
        "id": "cuV-2CClerax"
      },
      "source": [
        "Importamos la base de datos"
      ]
    },
    {
      "cell_type": "code",
      "metadata": {
        "id": "fN0V9k2sco3l"
      },
      "source": [
        "rdd_data_raw = sc.textFile(\"BDpracticafinalCSV.csv\")\n",
        "header_rdd_data_raw = rdd_data_raw.take(1)"
      ],
      "execution_count": 7,
      "outputs": []
    },
    {
      "cell_type": "code",
      "metadata": {
        "colab": {
          "base_uri": "https://localhost:8080/"
        },
        "id": "ao3j6N9ke8pN",
        "outputId": "d02fed75-a4a9-4121-f767-39c9893f4486"
      },
      "source": [
        "rdd_data_raw.take(5)"
      ],
      "execution_count": 8,
      "outputs": [
        {
          "output_type": "execute_result",
          "data": {
            "text/plain": [
              "['Order;MS Zoning;Lot Frontage;Lot Area;Land Contour;Land Slope;Overall Qual;Year Built;Year Remod/Add;Mas Vnr Type;Exter Qual;Bsmt Cond;Total Bsmt SF;Heating QC;Central Air;Full Bath;Half Bath;Bedroom AbvGr;Kitchen AbvGr;Kitchen Qual;TotRms AbvGrd;Garage Cars;Garage Area;Garage Cond;Pool Area;Pool QC;Mo Sold;Yr Sold;SalePrice',\n",
              " '1;RL;141;31770;Lvl;Gtl;6;1960;1960;Stone;TA;Gd;1080;Fa;Y;1;0;3;1;TA;7;2;528;TA;0;Sp;5;2010;215000',\n",
              " '2;RH;80;11622;Lvl;Gtl;5;1961;1961;None;TA;TA;882;TA;Y;1;0;2;1;TA;5;1;730;TA;0;Sp;6;2010;105000',\n",
              " '3;RL;81;14267;Lvl;Gtl;6;1958;1958;BrkFace;TA;TA;1329;TA;Y;1;1;3;1;Gd;6;1;312;TA;0;Sp;6;2010;172000',\n",
              " '4;RL;93;11160;Lvl;Gtl;7;1968;1968;None;Gd;TA;2110;Ex;Y;2;1;3;1;Ex;8;2;522;TA;0;Sp;4;2010;244000']"
            ]
          },
          "metadata": {
            "tags": []
          },
          "execution_count": 8
        }
      ]
    },
    {
      "cell_type": "code",
      "metadata": {
        "id": "teaxvblcToAN"
      },
      "source": [
        "rdd_data_raw = rdd_data_raw.map(lambda x: x.split(\";\"))"
      ],
      "execution_count": 9,
      "outputs": []
    },
    {
      "cell_type": "code",
      "metadata": {
        "colab": {
          "base_uri": "https://localhost:8080/"
        },
        "id": "9YTGZbwse85k",
        "outputId": "25423561-7fc0-431e-ade5-6c09aa73ae4d"
      },
      "source": [
        "header_rdd_data_raw"
      ],
      "execution_count": 10,
      "outputs": [
        {
          "output_type": "execute_result",
          "data": {
            "text/plain": [
              "['Order;MS Zoning;Lot Frontage;Lot Area;Land Contour;Land Slope;Overall Qual;Year Built;Year Remod/Add;Mas Vnr Type;Exter Qual;Bsmt Cond;Total Bsmt SF;Heating QC;Central Air;Full Bath;Half Bath;Bedroom AbvGr;Kitchen AbvGr;Kitchen Qual;TotRms AbvGrd;Garage Cars;Garage Area;Garage Cond;Pool Area;Pool QC;Mo Sold;Yr Sold;SalePrice']"
            ]
          },
          "metadata": {
            "tags": []
          },
          "execution_count": 10
        }
      ]
    },
    {
      "cell_type": "code",
      "metadata": {
        "colab": {
          "base_uri": "https://localhost:8080/"
        },
        "id": "A69k6ppUnqPy",
        "outputId": "aed5e7f9-92b1-4074-bc48-d947192298c2"
      },
      "source": [
        "data_parsed = spark.read.format(\"csv\") \\\n",
        "    .option(\"sep\", \";\") \\\n",
        "    .option(\"header\", \"true\") \\\n",
        "    .option(\"inferSchema\", \"true\") \\\n",
        "    .load(\"BDpracticafinalCSV.csv\")\n",
        "\n",
        "data_parsed.show(10)"
      ],
      "execution_count": 11,
      "outputs": [
        {
          "output_type": "stream",
          "text": [
            "+-----+---------+------------+--------+------------+----------+------------+----------+--------------+------------+----------+---------+-------------+----------+-----------+---------+---------+-------------+-------------+------------+-------------+-----------+-----------+-----------+---------+-------+-------+-------+---------+\n",
            "|Order|MS Zoning|Lot Frontage|Lot Area|Land Contour|Land Slope|Overall Qual|Year Built|Year Remod/Add|Mas Vnr Type|Exter Qual|Bsmt Cond|Total Bsmt SF|Heating QC|Central Air|Full Bath|Half Bath|Bedroom AbvGr|Kitchen AbvGr|Kitchen Qual|TotRms AbvGrd|Garage Cars|Garage Area|Garage Cond|Pool Area|Pool QC|Mo Sold|Yr Sold|SalePrice|\n",
            "+-----+---------+------------+--------+------------+----------+------------+----------+--------------+------------+----------+---------+-------------+----------+-----------+---------+---------+-------------+-------------+------------+-------------+-----------+-----------+-----------+---------+-------+-------+-------+---------+\n",
            "|    1|       RL|         141|   31770|         Lvl|       Gtl|           6|      1960|          1960|       Stone|        TA|       Gd|         1080|        Fa|          Y|        1|        0|            3|            1|          TA|            7|          2|        528|         TA|        0|     Sp|      5|   2010|   215000|\n",
            "|    2|       RH|          80|   11622|         Lvl|       Gtl|           5|      1961|          1961|        None|        TA|       TA|          882|        TA|          Y|        1|        0|            2|            1|          TA|            5|          1|        730|         TA|        0|     Sp|      6|   2010|   105000|\n",
            "|    3|       RL|          81|   14267|         Lvl|       Gtl|           6|      1958|          1958|     BrkFace|        TA|       TA|         1329|        TA|          Y|        1|        1|            3|            1|          Gd|            6|          1|        312|         TA|        0|     Sp|      6|   2010|   172000|\n",
            "|    4|       RL|          93|   11160|         Lvl|       Gtl|           7|      1968|          1968|        None|        Gd|       TA|         2110|        Ex|          Y|        2|        1|            3|            1|          Ex|            8|          2|        522|         TA|        0|     Sp|      4|   2010|   244000|\n",
            "|    5|       RL|          74|   13830|         Lvl|       Gtl|           5|      1997|          1998|        None|        TA|       TA|          928|        Gd|          Y|        2|        1|            3|            1|          TA|            6|          2|        482|         TA|        0|     Sp|      3|   2010|   189900|\n",
            "|    6|       RL|          78|    9978|         Lvl|       Gtl|           6|      1998|          1998|     BrkFace|        TA|       TA|          926|        Ex|          Y|        2|        1|            3|            1|          Gd|            7|          2|        470|         TA|        0|     Sp|      6|   2010|   195500|\n",
            "|    7|       RL|          41|    4920|         Lvl|       Gtl|           8|      2001|          2001|        None|        Gd|       TA|         1338|        Ex|          Y|        2|        0|            2|            1|          Gd|            6|          2|        582|         TA|        0|     Sp|      4|   2010|   213500|\n",
            "|    8|       RL|          43|    5005|         HLS|       Gtl|           8|      1992|          1992|        None|        Gd|       TA|         1280|        Ex|          Y|        2|        0|            2|            1|          Gd|            5|          2|        506|         TA|        0|     Sp|      1|   2010|   191500|\n",
            "|    9|       RL|          39|    5389|         Lvl|       Gtl|           8|      1995|          1996|        None|        Gd|       TA|         1595|        Ex|          Y|        2|        0|            2|            1|          Gd|            5|          2|        608|         TA|        0|     Sp|      3|   2010|   236500|\n",
            "|   10|       RL|          60|    7500|         Lvl|       Gtl|           7|      1999|          1999|        None|        TA|       TA|          994|        Gd|          Y|        2|        1|            3|            1|          Gd|            7|          2|        442|         TA|        0|     Sp|      6|   2010|   189000|\n",
            "+-----+---------+------------+--------+------------+----------+------------+----------+--------------+------------+----------+---------+-------------+----------+-----------+---------+---------+-------------+-------------+------------+-------------+-----------+-----------+-----------+---------+-------+-------+-------+---------+\n",
            "only showing top 10 rows\n",
            "\n"
          ],
          "name": "stdout"
        }
      ]
    },
    {
      "cell_type": "code",
      "metadata": {
        "colab": {
          "base_uri": "https://localhost:8080/"
        },
        "id": "HOwpGNren_7p",
        "outputId": "96026143-a89f-43a6-be39-d1ceeae939bc"
      },
      "source": [
        "# visualizamos el esquemas y nos aseguramos que se han importado las variables correctamente.\n",
        "data_parsed.printSchema()"
      ],
      "execution_count": 12,
      "outputs": [
        {
          "output_type": "stream",
          "text": [
            "root\n",
            " |-- Order: integer (nullable = true)\n",
            " |-- MS Zoning: string (nullable = true)\n",
            " |-- Lot Frontage: integer (nullable = true)\n",
            " |-- Lot Area: integer (nullable = true)\n",
            " |-- Land Contour: string (nullable = true)\n",
            " |-- Land Slope: string (nullable = true)\n",
            " |-- Overall Qual: integer (nullable = true)\n",
            " |-- Year Built: integer (nullable = true)\n",
            " |-- Year Remod/Add: integer (nullable = true)\n",
            " |-- Mas Vnr Type: string (nullable = true)\n",
            " |-- Exter Qual: string (nullable = true)\n",
            " |-- Bsmt Cond: string (nullable = true)\n",
            " |-- Total Bsmt SF: integer (nullable = true)\n",
            " |-- Heating QC: string (nullable = true)\n",
            " |-- Central Air: string (nullable = true)\n",
            " |-- Full Bath: integer (nullable = true)\n",
            " |-- Half Bath: integer (nullable = true)\n",
            " |-- Bedroom AbvGr: integer (nullable = true)\n",
            " |-- Kitchen AbvGr: integer (nullable = true)\n",
            " |-- Kitchen Qual: string (nullable = true)\n",
            " |-- TotRms AbvGrd: integer (nullable = true)\n",
            " |-- Garage Cars: integer (nullable = true)\n",
            " |-- Garage Area: integer (nullable = true)\n",
            " |-- Garage Cond: string (nullable = true)\n",
            " |-- Pool Area: integer (nullable = true)\n",
            " |-- Pool QC: string (nullable = true)\n",
            " |-- Mo Sold: integer (nullable = true)\n",
            " |-- Yr Sold: integer (nullable = true)\n",
            " |-- SalePrice: integer (nullable = true)\n",
            "\n"
          ],
          "name": "stdout"
        }
      ]
    },
    {
      "cell_type": "code",
      "metadata": {
        "colab": {
          "base_uri": "https://localhost:8080/"
        },
        "id": "ti6t5J9gfNgh",
        "outputId": "2ad2b8fc-625a-48e0-b6df-e2d53dd38cf6"
      },
      "source": [
        "data_parsed.count()"
      ],
      "execution_count": 13,
      "outputs": [
        {
          "output_type": "execute_result",
          "data": {
            "text/plain": [
              "2936"
            ]
          },
          "metadata": {
            "tags": []
          },
          "execution_count": 13
        }
      ]
    },
    {
      "cell_type": "markdown",
      "metadata": {
        "id": "TuRNxXXeCyPH"
      },
      "source": [
        "Filtramos solo para las viviendas ubicadas en zonas residenciales alta, media y baja densidad.\n",
        "\n",
        "En el diccionario de variables informan que los tipos de viviendas son las siguientes: A rural, C comercial, FV residencial flotante, I industrial, RH residencial alta densidad, RL residencial baja densidad, RM residencial media densidad\".\n",
        "\n",
        "Por lo tanto, podemos filtrar por aquellas viviendas que sean RH, RM o RL"
      ]
    },
    {
      "cell_type": "code",
      "metadata": {
        "id": "1LoMEMs0F6cH"
      },
      "source": [
        "# importamos funciones para poder filtrar\n",
        "from pyspark.sql.functions import col, avg, desc, sum"
      ],
      "execution_count": 14,
      "outputs": []
    },
    {
      "cell_type": "code",
      "metadata": {
        "id": "Zs5iWuagOm9g"
      },
      "source": [
        "data_parsed = data_parsed.filter((F.col(\"MS zoning\") == 'RH') | (F.col(\"MS zoning\") == 'RM') | (F.col(\"MS zoning\") == 'RL'))"
      ],
      "execution_count": 15,
      "outputs": []
    },
    {
      "cell_type": "code",
      "metadata": {
        "colab": {
          "base_uri": "https://localhost:8080/"
        },
        "id": "895N2vJcOnHC",
        "outputId": "064824a1-7ea5-4c06-bdf0-48fad33c2111"
      },
      "source": [
        "data_parsed.count()"
      ],
      "execution_count": 16,
      "outputs": [
        {
          "output_type": "execute_result",
          "data": {
            "text/plain": [
              "2760"
            ]
          },
          "metadata": {
            "tags": []
          },
          "execution_count": 16
        }
      ]
    },
    {
      "cell_type": "code",
      "metadata": {
        "colab": {
          "base_uri": "https://localhost:8080/"
        },
        "id": "fo-tmNfvOnJ2",
        "outputId": "3828b613-1092-43c1-f113-f516c242be67"
      },
      "source": [
        "data_parsed.show()"
      ],
      "execution_count": 17,
      "outputs": [
        {
          "output_type": "stream",
          "text": [
            "+-----+---------+------------+--------+------------+----------+------------+----------+--------------+------------+----------+---------+-------------+----------+-----------+---------+---------+-------------+-------------+------------+-------------+-----------+-----------+-----------+---------+-------+-------+-------+---------+\n",
            "|Order|MS Zoning|Lot Frontage|Lot Area|Land Contour|Land Slope|Overall Qual|Year Built|Year Remod/Add|Mas Vnr Type|Exter Qual|Bsmt Cond|Total Bsmt SF|Heating QC|Central Air|Full Bath|Half Bath|Bedroom AbvGr|Kitchen AbvGr|Kitchen Qual|TotRms AbvGrd|Garage Cars|Garage Area|Garage Cond|Pool Area|Pool QC|Mo Sold|Yr Sold|SalePrice|\n",
            "+-----+---------+------------+--------+------------+----------+------------+----------+--------------+------------+----------+---------+-------------+----------+-----------+---------+---------+-------------+-------------+------------+-------------+-----------+-----------+-----------+---------+-------+-------+-------+---------+\n",
            "|    1|       RL|         141|   31770|         Lvl|       Gtl|           6|      1960|          1960|       Stone|        TA|       Gd|         1080|        Fa|          Y|        1|        0|            3|            1|          TA|            7|          2|        528|         TA|        0|     Sp|      5|   2010|   215000|\n",
            "|    2|       RH|          80|   11622|         Lvl|       Gtl|           5|      1961|          1961|        None|        TA|       TA|          882|        TA|          Y|        1|        0|            2|            1|          TA|            5|          1|        730|         TA|        0|     Sp|      6|   2010|   105000|\n",
            "|    3|       RL|          81|   14267|         Lvl|       Gtl|           6|      1958|          1958|     BrkFace|        TA|       TA|         1329|        TA|          Y|        1|        1|            3|            1|          Gd|            6|          1|        312|         TA|        0|     Sp|      6|   2010|   172000|\n",
            "|    4|       RL|          93|   11160|         Lvl|       Gtl|           7|      1968|          1968|        None|        Gd|       TA|         2110|        Ex|          Y|        2|        1|            3|            1|          Ex|            8|          2|        522|         TA|        0|     Sp|      4|   2010|   244000|\n",
            "|    5|       RL|          74|   13830|         Lvl|       Gtl|           5|      1997|          1998|        None|        TA|       TA|          928|        Gd|          Y|        2|        1|            3|            1|          TA|            6|          2|        482|         TA|        0|     Sp|      3|   2010|   189900|\n",
            "|    6|       RL|          78|    9978|         Lvl|       Gtl|           6|      1998|          1998|     BrkFace|        TA|       TA|          926|        Ex|          Y|        2|        1|            3|            1|          Gd|            7|          2|        470|         TA|        0|     Sp|      6|   2010|   195500|\n",
            "|    7|       RL|          41|    4920|         Lvl|       Gtl|           8|      2001|          2001|        None|        Gd|       TA|         1338|        Ex|          Y|        2|        0|            2|            1|          Gd|            6|          2|        582|         TA|        0|     Sp|      4|   2010|   213500|\n",
            "|    8|       RL|          43|    5005|         HLS|       Gtl|           8|      1992|          1992|        None|        Gd|       TA|         1280|        Ex|          Y|        2|        0|            2|            1|          Gd|            5|          2|        506|         TA|        0|     Sp|      1|   2010|   191500|\n",
            "|    9|       RL|          39|    5389|         Lvl|       Gtl|           8|      1995|          1996|        None|        Gd|       TA|         1595|        Ex|          Y|        2|        0|            2|            1|          Gd|            5|          2|        608|         TA|        0|     Sp|      3|   2010|   236500|\n",
            "|   10|       RL|          60|    7500|         Lvl|       Gtl|           7|      1999|          1999|        None|        TA|       TA|          994|        Gd|          Y|        2|        1|            3|            1|          Gd|            7|          2|        442|         TA|        0|     Sp|      6|   2010|   189000|\n",
            "|   11|       RL|          75|   10000|         Lvl|       Gtl|           6|      1993|          1994|        None|        TA|       TA|          763|        Gd|          Y|        2|        1|            3|            1|          TA|            7|          2|        440|         TA|        0|     Sp|      4|   2010|   175900|\n",
            "|   12|       RL|        null|    7980|         Lvl|       Gtl|           6|      1992|          2007|        None|        TA|       TA|         1168|        Ex|          Y|        2|        0|            3|            1|          TA|            6|          2|        420|         TA|        0|     Sp|      3|   2010|   185000|\n",
            "|   13|       RL|          63|    8402|         Lvl|       Gtl|           6|      1998|          1998|        None|        TA|       TA|          789|        Gd|          Y|        2|        1|            3|            1|          TA|            7|          2|        393|         TA|        0|     Sp|      5|   2010|   180400|\n",
            "|   14|       RL|          85|   10176|         Lvl|       Gtl|           7|      1990|          1990|        None|        TA|       TA|         1300|        Gd|          Y|        1|        1|            2|            1|          Gd|            5|          2|        506|         TA|        0|     Sp|      2|   2010|   171500|\n",
            "|   15|       RL|        null|    6820|         Lvl|       Gtl|           8|      1985|          1985|        None|        Gd|       TA|         1488|        TA|          Y|        1|        1|            1|            1|          Gd|            4|          2|        528|         TA|        0|     Sp|      6|   2010|   212000|\n",
            "|   16|       RL|          47|   53504|         HLS|       Mod|           8|      2003|          2003|     BrkFace|        Ex|       TA|         1650|        Ex|          Y|        3|        1|            4|            1|          Ex|           12|          3|        841|         TA|        0|     Sp|      6|   2010|   538000|\n",
            "|   17|       RL|         152|   12134|         Bnk|       Mod|           8|      1988|          2005|        None|        Gd|       TA|          559|        Gd|          Y|        2|        0|            4|            1|          TA|            8|          2|        492|         TA|        0|     Sp|      6|   2010|   164000|\n",
            "|   18|       RL|          88|   11394|         Lvl|       Gtl|           9|      2010|          2010|       Stone|        Gd|       TA|         1856|        Ex|          Y|        1|        1|            1|            1|          Ex|            8|          3|        834|         TA|        0|     Sp|      6|   2010|   394432|\n",
            "|   19|       RL|         140|   19138|         Lvl|       Gtl|           4|      1951|          1951|        None|        TA|       TA|          864|        Ex|          Y|        1|        0|            2|            1|          TA|            4|          2|        400|         TA|        0|     Sp|      6|   2010|   141000|\n",
            "|   20|       RL|          85|   13175|         Lvl|       Gtl|           6|      1978|          1988|       Stone|        TA|       TA|         1542|        TA|          Y|        2|        0|            3|            1|          TA|            7|          2|        500|         TA|        0|     Sp|      2|   2010|   210000|\n",
            "+-----+---------+------------+--------+------------+----------+------------+----------+--------------+------------+----------+---------+-------------+----------+-----------+---------+---------+-------------+-------------+------------+-------------+-----------+-----------+-----------+---------+-------+-------+-------+---------+\n",
            "only showing top 20 rows\n",
            "\n"
          ],
          "name": "stdout"
        }
      ]
    },
    {
      "cell_type": "code",
      "metadata": {
        "colab": {
          "base_uri": "https://localhost:8080/"
        },
        "id": "_XWDilrbI5nW",
        "outputId": "9fe6e92f-c4d0-4e8b-fe4d-0e4119ae9074"
      },
      "source": [
        "data_parsed.select(\"Ms Zoning\").distinct().show()"
      ],
      "execution_count": 18,
      "outputs": [
        {
          "output_type": "stream",
          "text": [
            "+---------+\n",
            "|Ms Zoning|\n",
            "+---------+\n",
            "|       RH|\n",
            "|       RL|\n",
            "|       RM|\n",
            "+---------+\n",
            "\n"
          ],
          "name": "stdout"
        }
      ]
    },
    {
      "cell_type": "markdown",
      "metadata": {
        "id": "zJBkALvocfKH"
      },
      "source": [
        "## Cuántas viviendas distintas encontramos en el dataset? ¿Se repite alguna? Tiene sentido que haya duplicadas? ¿Qué podemos hacer con las duplicadas?"
      ]
    },
    {
      "cell_type": "markdown",
      "metadata": {
        "id": "PlTuB1ipq0Ae"
      },
      "source": [
        "Con el resultado obtenido podemos ver que hay 2 duplicados, ya que en el dataset son 2760 observaciones, de las cuales 2758 no tienen duplicados"
      ]
    },
    {
      "cell_type": "code",
      "metadata": {
        "colab": {
          "base_uri": "https://localhost:8080/"
        },
        "id": "Fi5jWji8j7Hp",
        "outputId": "9224c9bb-8a69-40ff-a34c-d367fb56b2c4"
      },
      "source": [
        "viviendas_distintas = data_parsed.distinct()\n",
        "viviendas_distintas.count()"
      ],
      "execution_count": 19,
      "outputs": [
        {
          "output_type": "execute_result",
          "data": {
            "text/plain": [
              "2758"
            ]
          },
          "metadata": {
            "tags": []
          },
          "execution_count": 19
        }
      ]
    },
    {
      "cell_type": "markdown",
      "metadata": {
        "id": "X5fqn5AlsLOy"
      },
      "source": [
        "Comprobamos que tienen la misma variable de identificación."
      ]
    },
    {
      "cell_type": "code",
      "metadata": {
        "colab": {
          "base_uri": "https://localhost:8080/"
        },
        "id": "kfqGIOJnj7Nv",
        "outputId": "5e17033a-a169-408a-d3c5-8f38a6f4f9a6"
      },
      "source": [
        "data_parsed.select(\"Order\").distinct().count() "
      ],
      "execution_count": 20,
      "outputs": [
        {
          "output_type": "execute_result",
          "data": {
            "text/plain": [
              "2758"
            ]
          },
          "metadata": {
            "tags": []
          },
          "execution_count": 20
        }
      ]
    },
    {
      "cell_type": "markdown",
      "metadata": {
        "id": "c20Hu-b1sj3A"
      },
      "source": [
        "Como es el caso, podemos procederemos a eliminar los valores duplicados"
      ]
    },
    {
      "cell_type": "code",
      "metadata": {
        "colab": {
          "base_uri": "https://localhost:8080/"
        },
        "id": "lTg6jKRKsifb",
        "outputId": "cfa2d95e-07d5-415b-e25a-01e26efb0662"
      },
      "source": [
        "data_parsed = data_parsed.drop_duplicates()\n",
        "data_parsed.count()"
      ],
      "execution_count": 21,
      "outputs": [
        {
          "output_type": "execute_result",
          "data": {
            "text/plain": [
              "2758"
            ]
          },
          "metadata": {
            "tags": []
          },
          "execution_count": 21
        }
      ]
    },
    {
      "cell_type": "markdown",
      "metadata": {
        "id": "wavjZs_dcfKH"
      },
      "source": [
        "## ¿Podrías decirme el total de inmuebles y el precio medio (Sale Price) de cada zona (MS Zoning)?"
      ]
    },
    {
      "cell_type": "markdown",
      "metadata": {
        "id": "nWt0hdpatDqg"
      },
      "source": [
        "En total hay 2761 inmuebles"
      ]
    },
    {
      "cell_type": "code",
      "metadata": {
        "colab": {
          "base_uri": "https://localhost:8080/"
        },
        "id": "xUWkJ_pkr30k",
        "outputId": "38febe2e-f8dd-4747-df05-c64e0c7a90db"
      },
      "source": [
        "data_parsed.count()"
      ],
      "execution_count": 22,
      "outputs": [
        {
          "output_type": "execute_result",
          "data": {
            "text/plain": [
              "2758"
            ]
          },
          "metadata": {
            "tags": []
          },
          "execution_count": 22
        }
      ]
    },
    {
      "cell_type": "markdown",
      "metadata": {
        "id": "lfVbOlBuuHww"
      },
      "source": [
        "Precio medio de cada zona:"
      ]
    },
    {
      "cell_type": "code",
      "metadata": {
        "colab": {
          "base_uri": "https://localhost:8080/"
        },
        "id": "g1aHYzFqtte3",
        "outputId": "2e277578-f1e7-4b04-fc36-adf4268e7f19"
      },
      "source": [
        "data_parsed.groupby('MS Zoning').agg(F.mean('SalePrice')).show()"
      ],
      "execution_count": 23,
      "outputs": [
        {
          "output_type": "stream",
          "text": [
            "+---------+------------------+\n",
            "|MS Zoning|    avg(SalePrice)|\n",
            "+---------+------------------+\n",
            "|       RH|136419.77777777778|\n",
            "|       RL|191142.49933891583|\n",
            "|       RM|126781.39393939394|\n",
            "+---------+------------------+\n",
            "\n"
          ],
          "name": "stdout"
        }
      ]
    },
    {
      "cell_type": "markdown",
      "metadata": {
        "id": "M8MNRWoacfKI"
      },
      "source": [
        "## Media de Total Bsmt SF por cada década de construcción calculada a partir de Year Built. \n",
        "## ¿Cuál es la decada de construcción con viviendas mejor acondicionadas para el frío (Heating QC)?"
      ]
    },
    {
      "cell_type": "markdown",
      "metadata": {
        "id": "X0cjYcq8UdQg"
      },
      "source": [
        "Creamos una nueva columna que indique si se trata de la década del 2000, del 1990 o anterior.\n",
        "\n",
        "Nota: he agrupado todas las décadas anteriores en una sola debido a que cuando lo observé por año, se apreciaba que estas no eran relevantes."
      ]
    },
    {
      "cell_type": "code",
      "metadata": {
        "colab": {
          "base_uri": "https://localhost:8080/"
        },
        "id": "adu9Pseb_K_A",
        "outputId": "105e134e-27cf-41ed-9c9a-8f6158cecf12"
      },
      "source": [
        "from pyspark.sql.functions import when\n",
        "\n",
        "data_parsed = data_parsed.withColumn( \"decada\", when(col(\"Year Built\") < 1990, \"décadas hasta 1899\")\n",
        "  .when(col(\"Year Built\")< 2000, \"decada de 1990\")\n",
        "  .otherwise('decada del 2000'))\n",
        "data_parsed.show()"
      ],
      "execution_count": 24,
      "outputs": [
        {
          "output_type": "stream",
          "text": [
            "+-----+---------+------------+--------+------------+----------+------------+----------+--------------+------------+----------+---------+-------------+----------+-----------+---------+---------+-------------+-------------+------------+-------------+-----------+-----------+-----------+---------+-------+-------+-------+---------+------------------+\n",
            "|Order|MS Zoning|Lot Frontage|Lot Area|Land Contour|Land Slope|Overall Qual|Year Built|Year Remod/Add|Mas Vnr Type|Exter Qual|Bsmt Cond|Total Bsmt SF|Heating QC|Central Air|Full Bath|Half Bath|Bedroom AbvGr|Kitchen AbvGr|Kitchen Qual|TotRms AbvGrd|Garage Cars|Garage Area|Garage Cond|Pool Area|Pool QC|Mo Sold|Yr Sold|SalePrice|            decada|\n",
            "+-----+---------+------------+--------+------------+----------+------------+----------+--------------+------------+----------+---------+-------------+----------+-----------+---------+---------+-------------+-------------+------------+-------------+-----------+-----------+-----------+---------+-------+-------+-------+---------+------------------+\n",
            "|   54|       RL|          43|    3182|         Lvl|       Gtl|           8|      2004|          2005|     BrkFace|        Gd|       TA|         1256|        Ex|          Y|        2|        0|            2|            1|          Gd|            6|          2|        430|         TA|        0|     Sp|      4|   2010|   192000|   decada del 2000|\n",
            "|  447|       RL|          79|    9541|         Lvl|       Gtl|           7|      2009|          2009|       Stone|        Gd|       TA|         1502|        Ex|          Y|        2|        0|            3|            1|          Gd|            7|          2|        644|         TA|        0|     Sp|      9|   2009|   233170|   decada del 2000|\n",
            "|  890|       RL|          80|   10682|         Lvl|       Gtl|           4|      1960|          1971|        None|        TA|       TA|         1014|        TA|          Y|        1|        0|            3|            1|          TA|            7|          1|        544|         TA|        0|     Sp|      7|   2009|   127000|décadas hasta 1899|\n",
            "| 1133|       RL|          68|   10110|         Lvl|       Gtl|           6|      2003|          2003|        None|        Gd|       TA|          835|        Ex|          Y|        2|        1|            3|            1|          Gd|            7|          2|        542|         TA|        0|     Sp|      7|   2008|   188000|   decada del 2000|\n",
            "| 1224|       RL|          80|    9600|         Lvl|       Gtl|           5|      1960|          1960|     BrkFace|        Fa|       TA|         1296|        TA|          Y|        2|        0|            3|            1|          Gd|            6|          2|        450|         TA|        0|     Sp|      2|   2008|   141500|décadas hasta 1899|\n",
            "| 1659|       RL|          90|   11700|         Lvl|       Gtl|           6|      1968|          1968|     BrkFace|        Gd|       TA|          702|        Gd|          Y|        1|        2|            3|            1|          TA|            7|          2|        539|         TA|        0|     Sp|      6|   2007|   175000|décadas hasta 1899|\n",
            "| 1894|       RL|          80|    8800|         Lvl|       Gtl|           6|      1964|          1997|     BrkFace|        TA|       TA|          845|        Ex|          Y|        2|        1|            5|            1|          TA|            8|          2|        539|         TA|        0|     Sp|      7|   2007|   224500|décadas hasta 1899|\n",
            "| 2156|       RL|          80|   10000|         Lvl|       Gtl|           8|      1995|          1996|     BrkFace|        Gd|       TA|         1220|        Ex|          Y|        2|        1|            3|            1|          Gd|            8|          2|        556|         TA|        0|     Sp|     12|   2007|   240000|    decada de 1990|\n",
            "| 2437|       RL|        null|    8121|         Lvl|       Gtl|           6|      2000|          2000|        None|        TA|       TA|          953|        Ex|          Y|        2|        1|            3|            1|          TA|            7|          2|        460|         TA|        0|     Sp|      1|   2006|   172400|   decada del 2000|\n",
            "| 2559|       RL|          80|    9600|         Lvl|       Gtl|           5|      1961|          1990|        None|        TA|       TA|         1251|        TA|          Y|        1|        0|            3|            1|          TA|            7|          2|        441|         TA|        0|     Sp|      6|   2006|   161000|décadas hasta 1899|\n",
            "| 2589|       RL|          80|   13600|         Bnk|       Gtl|           5|      1955|          1955|        None|        TA|       TA|         1056|        Gd|          Y|        1|        1|            3|            1|          TA|            6|          1|        300|         TA|        0|     Sp|     11|   2006|   125000|décadas hasta 1899|\n",
            "| 2772|       RL|        null|    8685|         Lvl|       Gtl|           7|      1998|          1998|        None|        TA|       TA|         1425|        Ex|          Y|        2|        0|            3|            1|          TA|            5|          2|        591|         TA|        0|     Sp|      5|   2006|   193000|    decada de 1990|\n",
            "| 2842|       RL|          45|    8248|         Lvl|       Gtl|           4|      1922|          1950|        None|        TA|       TA|          864|        TA|          N|        1|        0|            3|            1|          TA|            8|          0|          0|         Sg|        0|     Sp|      9|   2006|    83000|décadas hasta 1899|\n",
            "|  175|       RM|          60|    5790|         Lvl|       Gtl|           3|      1915|          1950|        None|        Gd|       TA|          840|        Gd|          N|        2|        0|            3|            2|          TA|            8|          1|        379|         TA|        0|     Sp|      5|   2010|   107400|décadas hasta 1899|\n",
            "|  425|       RL|         108|   13173|         Lvl|       Gtl|           9|      2006|          2007|       Stone|        Gd|       TA|         1652|        Ex|          Y|        2|        0|            2|            1|          Ex|            6|          2|        840|         TA|        0|     Sp|     11|   2009|   325000|   decada del 2000|\n",
            "|  673|       RL|          64|    8712|         Lvl|       Gtl|           5|      1957|          2000|        None|        TA|       TA|          992|        TA|          Y|        1|        0|            2|            1|          TA|            5|          1|        756|         TA|        0|     Sp|      5|   2009|   153000|décadas hasta 1899|\n",
            "|  842|       RL|          60|    8072|         Lvl|       Gtl|           5|      1994|          1995|        None|        TA|       Gd|          990|        Ex|          Y|        1|        0|            3|            1|          TA|            5|          2|        480|         TA|        0|     Sp|      5|   2009|   138000|    decada de 1990|\n",
            "| 1143|       RL|          43|   14565|         Lvl|       Gtl|           7|      1994|          1995|     BrkFace|        Gd|       TA|          832|        Ex|          Y|        2|        1|            3|            1|          Gd|            6|          2|        483|         TA|        0|     Sp|     11|   2008|   189000|    decada de 1990|\n",
            "| 1490|       RL|          64|   12102|         Lvl|       Gtl|           5|      1976|          1976|     BrkFace|        TA|       Gd|          456|        Ex|          Y|        1|        0|            3|            1|          TA|            6|          2|        504|         TA|        0|     Sp|      4|   2008|   165000|décadas hasta 1899|\n",
            "| 2292|       RL|        null|   11333|         Lvl|       Gtl|           6|      1976|          1976|        None|        TA|       TA|         1029|        TA|          Y|        1|        0|            3|            1|          TA|            5|          2|        539|         TA|        0|     Sp|      5|   2007|   146800|décadas hasta 1899|\n",
            "+-----+---------+------------+--------+------------+----------+------------+----------+--------------+------------+----------+---------+-------------+----------+-----------+---------+---------+-------------+-------------+------------+-------------+-----------+-----------+-----------+---------+-------+-------+-------+---------+------------------+\n",
            "only showing top 20 rows\n",
            "\n"
          ],
          "name": "stdout"
        }
      ]
    },
    {
      "cell_type": "markdown",
      "metadata": {
        "id": "189KfrmeEe9k"
      },
      "source": [
        "La Media de Total Bsmt SF por cada década de construcción es la siguiente:"
      ]
    },
    {
      "cell_type": "code",
      "metadata": {
        "colab": {
          "base_uri": "https://localhost:8080/"
        },
        "id": "0VpMvTZ_99TE",
        "outputId": "e2c21826-34f7-4cb2-f734-7e51a1d0c51a"
      },
      "source": [
        "data_parsed.groupby('decada').agg(F.mean('Total Bsmt SF')).show()"
      ],
      "execution_count": 25,
      "outputs": [
        {
          "output_type": "stream",
          "text": [
            "+------------------+------------------+\n",
            "|            decada|avg(Total Bsmt SF)|\n",
            "+------------------+------------------+\n",
            "|décadas hasta 1899| 930.9882286995515|\n",
            "|   decada del 2000|1347.7401812688822|\n",
            "|    decada de 1990|1138.5608974358975|\n",
            "+------------------+------------------+\n",
            "\n"
          ],
          "name": "stdout"
        }
      ]
    },
    {
      "cell_type": "markdown",
      "metadata": {
        "id": "_wUhYNMEErrf"
      },
      "source": [
        "¿Cuál es la decada de construcción con viviendas mejor acondicionadas para el frío (Heating QC)?"
      ]
    },
    {
      "cell_type": "markdown",
      "metadata": {
        "id": "XH4O5zc7L9Yb"
      },
      "source": [
        "Primero observamos cuáles son los valores que puede tomar la variable Heatin QC:\n",
        "- Ex: Excelente.\n",
        "- Gd: Bueno.\n",
        "- TA Media.\n",
        "- Fa Justo.\n",
        "- Po Pobre.\n"
      ]
    },
    {
      "cell_type": "code",
      "metadata": {
        "colab": {
          "base_uri": "https://localhost:8080/"
        },
        "id": "Dgyi3WucFE1D",
        "outputId": "dd8f6d3a-a006-40d9-f5b2-bd1c2adb1764"
      },
      "source": [
        "data_parsed.select(\"Heating QC\").distinct().show()"
      ],
      "execution_count": 26,
      "outputs": [
        {
          "output_type": "stream",
          "text": [
            "+----------+\n",
            "|Heating QC|\n",
            "+----------+\n",
            "|        Gd|\n",
            "|        Po|\n",
            "|        Ex|\n",
            "|        Fa|\n",
            "|        TA|\n",
            "+----------+\n",
            "\n"
          ],
          "name": "stdout"
        }
      ]
    },
    {
      "cell_type": "markdown",
      "metadata": {
        "id": "sN2U2bYhUJOM"
      },
      "source": [
        "Filtramos por aquellas que tengan viviendas acondicionadas con valor \"Ex\" (Excelente) y ordenamos de mayor a menor.\n",
        "\n",
        "Con el resultado obtenido se puede concluir que la década con mejor acondicionamiento para el frío es la década del 2000, ya que se construyeron un total de 635 viviendas con acondicionamiento excelente para prevenir el frío, frente a 485 en las anteriores a 1899."
      ]
    },
    {
      "cell_type": "code",
      "metadata": {
        "colab": {
          "base_uri": "https://localhost:8080/"
        },
        "id": "GTL4Ef99TLij",
        "outputId": "a4032445-9219-4bfd-8a58-e3294af41e83"
      },
      "source": [
        "data_parsed.filter(data_parsed[\"Heating QC\"] == \"Ex\") \\\n",
        "    .groupBy(\"decada\").count() \\\n",
        "    .sort(desc(\"count\")) \\\n",
        "    .show()"
      ],
      "execution_count": 27,
      "outputs": [
        {
          "output_type": "stream",
          "text": [
            "+------------------+-----+\n",
            "|            decada|count|\n",
            "+------------------+-----+\n",
            "|   decada del 2000|  637|\n",
            "|décadas hasta 1899|  485|\n",
            "|    decada de 1990|  232|\n",
            "+------------------+-----+\n",
            "\n"
          ],
          "name": "stdout"
        }
      ]
    },
    {
      "cell_type": "markdown",
      "metadata": {
        "id": "2PyamdnLcfKI"
      },
      "source": [
        "## ¿Cuáles son las 10 viviendas que se vendieron por un precio más elevado por metro cuadrado en el año 2009?"
      ]
    },
    {
      "cell_type": "markdown",
      "metadata": {
        "id": "S5_Fw1jnt-xv"
      },
      "source": [
        "Creamos una columna que contenga la información de la superficie en metros cuadrados. Para ello multiplicamos la columuna de \"Lot Area\", que está en piés cuadrados, por 0.09."
      ]
    },
    {
      "cell_type": "code",
      "metadata": {
        "colab": {
          "base_uri": "https://localhost:8080/"
        },
        "id": "eVCVojpgtcUD",
        "outputId": "2d8e1c1c-fa13-42c8-a237-08b959fa491a"
      },
      "source": [
        "data_processed = data_parsed.withColumn(\"metro_cuadrado\", data_parsed[\"Lot Area\"]* 0.09)\n",
        "data_processed.show(4)"
      ],
      "execution_count": 28,
      "outputs": [
        {
          "output_type": "stream",
          "text": [
            "+-----+---------+------------+--------+------------+----------+------------+----------+--------------+------------+----------+---------+-------------+----------+-----------+---------+---------+-------------+-------------+------------+-------------+-----------+-----------+-----------+---------+-------+-------+-------+---------+------------------+-----------------+\n",
            "|Order|MS Zoning|Lot Frontage|Lot Area|Land Contour|Land Slope|Overall Qual|Year Built|Year Remod/Add|Mas Vnr Type|Exter Qual|Bsmt Cond|Total Bsmt SF|Heating QC|Central Air|Full Bath|Half Bath|Bedroom AbvGr|Kitchen AbvGr|Kitchen Qual|TotRms AbvGrd|Garage Cars|Garage Area|Garage Cond|Pool Area|Pool QC|Mo Sold|Yr Sold|SalePrice|            decada|   metro_cuadrado|\n",
            "+-----+---------+------------+--------+------------+----------+------------+----------+--------------+------------+----------+---------+-------------+----------+-----------+---------+---------+-------------+-------------+------------+-------------+-----------+-----------+-----------+---------+-------+-------+-------+---------+------------------+-----------------+\n",
            "|   54|       RL|          43|    3182|         Lvl|       Gtl|           8|      2004|          2005|     BrkFace|        Gd|       TA|         1256|        Ex|          Y|        2|        0|            2|            1|          Gd|            6|          2|        430|         TA|        0|     Sp|      4|   2010|   192000|   decada del 2000|           286.38|\n",
            "|  447|       RL|          79|    9541|         Lvl|       Gtl|           7|      2009|          2009|       Stone|        Gd|       TA|         1502|        Ex|          Y|        2|        0|            3|            1|          Gd|            7|          2|        644|         TA|        0|     Sp|      9|   2009|   233170|   decada del 2000|858.6899999999999|\n",
            "|  890|       RL|          80|   10682|         Lvl|       Gtl|           4|      1960|          1971|        None|        TA|       TA|         1014|        TA|          Y|        1|        0|            3|            1|          TA|            7|          1|        544|         TA|        0|     Sp|      7|   2009|   127000|décadas hasta 1899|           961.38|\n",
            "| 1133|       RL|          68|   10110|         Lvl|       Gtl|           6|      2003|          2003|        None|        Gd|       TA|          835|        Ex|          Y|        2|        1|            3|            1|          Gd|            7|          2|        542|         TA|        0|     Sp|      7|   2008|   188000|   decada del 2000|            909.9|\n",
            "+-----+---------+------------+--------+------------+----------+------------+----------+--------------+------------+----------+---------+-------------+----------+-----------+---------+---------+-------------+-------------+------------+-------------+-----------+-----------+-----------+---------+-------+-------+-------+---------+------------------+-----------------+\n",
            "only showing top 4 rows\n",
            "\n"
          ],
          "name": "stdout"
        }
      ]
    },
    {
      "cell_type": "markdown",
      "metadata": {
        "id": "9o6sp072t4pw"
      },
      "source": [
        "Calculamos en una nueva columna que contenga el precio por metro cuadrado"
      ]
    },
    {
      "cell_type": "code",
      "metadata": {
        "colab": {
          "base_uri": "https://localhost:8080/"
        },
        "id": "G5khKHiNYz7a",
        "outputId": "f7a2228c-f124-4b5b-ba6a-fb39231e24f4"
      },
      "source": [
        "data_processed = data_processed.withColumn(\"Precio_metro_cuadrado\", data_processed[\"SalePrice\"]/data_processed[\"metro_cuadrado\"])\n",
        "data_processed.show(4)"
      ],
      "execution_count": 29,
      "outputs": [
        {
          "output_type": "stream",
          "text": [
            "+-----+---------+------------+--------+------------+----------+------------+----------+--------------+------------+----------+---------+-------------+----------+-----------+---------+---------+-------------+-------------+------------+-------------+-----------+-----------+-----------+---------+-------+-------+-------+---------+------------------+-----------------+---------------------+\n",
            "|Order|MS Zoning|Lot Frontage|Lot Area|Land Contour|Land Slope|Overall Qual|Year Built|Year Remod/Add|Mas Vnr Type|Exter Qual|Bsmt Cond|Total Bsmt SF|Heating QC|Central Air|Full Bath|Half Bath|Bedroom AbvGr|Kitchen AbvGr|Kitchen Qual|TotRms AbvGrd|Garage Cars|Garage Area|Garage Cond|Pool Area|Pool QC|Mo Sold|Yr Sold|SalePrice|            decada|   metro_cuadrado|Precio_metro_cuadrado|\n",
            "+-----+---------+------------+--------+------------+----------+------------+----------+--------------+------------+----------+---------+-------------+----------+-----------+---------+---------+-------------+-------------+------------+-------------+-----------+-----------+-----------+---------+-------+-------+-------+---------+------------------+-----------------+---------------------+\n",
            "|   54|       RL|          43|    3182|         Lvl|       Gtl|           8|      2004|          2005|     BrkFace|        Gd|       TA|         1256|        Ex|          Y|        2|        0|            2|            1|          Gd|            6|          2|        430|         TA|        0|     Sp|      4|   2010|   192000|   decada del 2000|           286.38|    670.4378797402053|\n",
            "|  447|       RL|          79|    9541|         Lvl|       Gtl|           7|      2009|          2009|       Stone|        Gd|       TA|         1502|        Ex|          Y|        2|        0|            3|            1|          Gd|            7|          2|        644|         TA|        0|     Sp|      9|   2009|   233170|   decada del 2000|858.6899999999999|    271.5415341974403|\n",
            "|  890|       RL|          80|   10682|         Lvl|       Gtl|           4|      1960|          1971|        None|        TA|       TA|         1014|        TA|          Y|        1|        0|            3|            1|          TA|            7|          1|        544|         TA|        0|     Sp|      7|   2009|   127000|décadas hasta 1899|           961.38|   132.10177037175725|\n",
            "| 1133|       RL|          68|   10110|         Lvl|       Gtl|           6|      2003|          2003|        None|        Gd|       TA|          835|        Ex|          Y|        2|        1|            3|            1|          Gd|            7|          2|        542|         TA|        0|     Sp|      7|   2008|   188000|   decada del 2000|            909.9|   206.61611166062204|\n",
            "+-----+---------+------------+--------+------------+----------+------------+----------+--------------+------------+----------+---------+-------------+----------+-----------+---------+---------+-------------+-------------+------------+-------------+-----------+-----------+-----------+---------+-------+-------+-------+---------+------------------+-----------------+---------------------+\n",
            "only showing top 4 rows\n",
            "\n"
          ],
          "name": "stdout"
        }
      ]
    },
    {
      "cell_type": "markdown",
      "metadata": {
        "id": "uQyQR-TmvQ_1"
      },
      "source": [
        "Para conocer las 10 viviendas que se vendieron por un precio más elevado por metro cuadrado en el año 2009, filtramos por dicho año y ordenamos de manera descendente:"
      ]
    },
    {
      "cell_type": "code",
      "metadata": {
        "colab": {
          "base_uri": "https://localhost:8080/"
        },
        "id": "xu2DeOm3eVgh",
        "outputId": "72e5c30e-adc8-4055-a2f6-ad197cf790ec"
      },
      "source": [
        "data_processed.filter(data_processed[\"Yr Sold\"] == 2009) \\\n",
        "    .sort(desc(\"Precio_metro_cuadrado\")) \\\n",
        "    .show(10)"
      ],
      "execution_count": 30,
      "outputs": [
        {
          "output_type": "stream",
          "text": [
            "+-----+---------+------------+--------+------------+----------+------------+----------+--------------+------------+----------+---------+-------------+----------+-----------+---------+---------+-------------+-------------+------------+-------------+-----------+-----------+-----------+---------+-------+-------+-------+---------+------------------+------------------+---------------------+\n",
            "|Order|MS Zoning|Lot Frontage|Lot Area|Land Contour|Land Slope|Overall Qual|Year Built|Year Remod/Add|Mas Vnr Type|Exter Qual|Bsmt Cond|Total Bsmt SF|Heating QC|Central Air|Full Bath|Half Bath|Bedroom AbvGr|Kitchen AbvGr|Kitchen Qual|TotRms AbvGrd|Garage Cars|Garage Area|Garage Cond|Pool Area|Pool QC|Mo Sold|Yr Sold|SalePrice|            decada|    metro_cuadrado|Precio_metro_cuadrado|\n",
            "+-----+---------+------------+--------+------------+----------+------------+----------+--------------+------------+----------+---------+-------------+----------+-----------+---------+---------+-------------+-------------+------------+-------------+-----------+-----------+-----------+---------+-------+-------+-------+---------+------------------+------------------+---------------------+\n",
            "|  936|       RM|          24|    1300|         Lvl|       Gtl|           6|      1980|          1980|        None|        TA|       TA|          561|        TA|          Y|        1|        1|            2|            1|          TA|            5|          2|        462|         TA|        0|     Sp|      5|   2009|   124000|décadas hasta 1899|             117.0|   1059.8290598290598|\n",
            "|  934|       RM|          24|    1488|         Lvl|       Gtl|           6|      1980|          1992|        None|        TA|       TA|          561|        TA|          Y|        1|        1|            2|            1|          Gd|            5|          2|        462|         TA|        0|     Sp|     10|   2009|   137000|décadas hasta 1899|            133.92|   1022.9988052568699|\n",
            "|  464|       RL|          36|    2268|         Lvl|       Gtl|           7|      2003|          2004|       Stone|        Gd|       TA|          764|        Ex|          Y|        2|        0|            2|            1|          Gd|            6|          2|        474|         TA|        0|     Sp|      7|   2009|   173000|   decada del 2000|            204.12|    847.5406623554771|\n",
            "|  935|       RM|          24|    1612|         Lvl|       Gtl|           6|      1980|          1980|        None|        TA|       TA|          561|        TA|          Y|        1|        1|            2|            1|          TA|            5|          2|        462|         TA|        0|     Sp|      7|   2009|   121000|décadas hasta 1899|145.07999999999998|    834.0226082161566|\n",
            "|  408|       RM|          21|    1680|         Lvl|       Gtl|           5|      1972|          1972|     BrkFace|        TA|       TA|          630|        TA|          Y|        2|        1|            3|            1|          TA|            6|          1|        264|         TA|        0|     Sp|      2|   2009|   119500|décadas hasta 1899|             151.2|    790.3439153439155|\n",
            "|  407|       RM|          21|    1680|         Lvl|       Gtl|           6|      1972|          2007|     BrkFace|        TA|       TA|          483|        Gd|          Y|        1|        1|            2|            1|          Gd|            5|          1|        264|         TA|        0|     Sp|      5|   2009|   118000|décadas hasta 1899|             151.2|    780.4232804232805|\n",
            "|  405|       RM|          21|    1680|         Lvl|       Gtl|           5|      1971|          1971|     BrkFace|        TA|       TA|          630|        TA|          Y|        2|        1|            3|            1|          TA|            6|          1|        280|         TA|        0|     Sp|      5|   2009|   112000|décadas hasta 1899|             151.2|    740.7407407407408|\n",
            "|  933|       RM|          24|    1733|         Lvl|       Gtl|           6|      1980|          1980|        None|        TA|       TA|          516|        TA|          Y|        1|        0|            2|            1|          TA|            5|          2|        452|         TA|        0|     Sp|      5|   2009|   115000|décadas hasta 1899|            155.97|     737.321279733282|\n",
            "|  403|       RM|          21|    1680|         Lvl|       Gtl|           6|      1973|          1973|     BrkFace|        TA|       TA|          483|        TA|          Y|        1|        1|            2|            1|          TA|            5|          1|        264|         TA|        0|     Sp|      7|   2009|   111000|décadas hasta 1899|             151.2|    734.1269841269842|\n",
            "|  411|       RL|          24|    2280|         Lvl|       Gtl|           6|      1976|          1976|        None|        TA|       TA|          855|        TA|          Y|        2|        1|            3|            1|          TA|            7|          2|        440|         TA|        0|     Sp|      7|   2009|   148500|décadas hasta 1899|             205.2|    723.6842105263158|\n",
            "+-----+---------+------------+--------+------------+----------+------------+----------+--------------+------------+----------+---------+-------------+----------+-----------+---------+---------+-------------+-------------+------------+-------------+-----------+-----------+-----------+---------+-------+-------+-------+---------+------------------+------------------+---------------------+\n",
            "only showing top 10 rows\n",
            "\n"
          ],
          "name": "stdout"
        }
      ]
    },
    {
      "cell_type": "markdown",
      "metadata": {
        "id": "SW597Q1gcfKI"
      },
      "source": [
        "## Media anual por zonas del precio de venta y metros cuadrados."
      ]
    },
    {
      "cell_type": "markdown",
      "metadata": {
        "id": "2HJiw64KXiec"
      },
      "source": [
        "A continuación calculamos, para cada zona, la media de su precio de venta, la media de los metros cuadrados y la media del precio por precio cuadrado."
      ]
    },
    {
      "cell_type": "code",
      "metadata": {
        "colab": {
          "base_uri": "https://localhost:8080/"
        },
        "id": "5VnzHOcnY4yF",
        "outputId": "b861e56b-67f8-4112-cbb9-0a8c761daefe"
      },
      "source": [
        "data_processed.groupBy(\"MS Zoning\").agg(F.mean(\"SalePrice\"), F.mean(\"metro_cuadrado\"), F.mean(\"Precio_metro_cuadrado\")).show()"
      ],
      "execution_count": 31,
      "outputs": [
        {
          "output_type": "stream",
          "text": [
            "+---------+------------------+-------------------+--------------------------+\n",
            "|MS Zoning|    avg(SalePrice)|avg(metro_cuadrado)|avg(Precio_metro_cuadrado)|\n",
            "+---------+------------------+-------------------+--------------------------+\n",
            "|       RH|136419.77777777778|  662.5999999999998|        233.79506498176403|\n",
            "|       RL|191142.49933891583| 1002.8399338915821|        217.16537099441064|\n",
            "|       RM|126781.39393939394|  577.0348051948056|         291.2856581401739|\n",
            "+---------+------------------+-------------------+--------------------------+\n",
            "\n"
          ],
          "name": "stdout"
        }
      ]
    },
    {
      "cell_type": "markdown",
      "metadata": {
        "id": "wfaEgiNjcfKJ"
      },
      "source": [
        "## ¿Podrías decirme el total de recaudación de las casas de revistimiento (Mas Vnr Type) de piedra con respecto a las de ladrillo? ¿Hay diferencia significativa?"
      ]
    },
    {
      "cell_type": "markdown",
      "metadata": {
        "id": "t3D-HKjnX39Z"
      },
      "source": [
        "Primero estudiamos las posibles opciones de revistimiento de las viviendas."
      ]
    },
    {
      "cell_type": "code",
      "metadata": {
        "colab": {
          "base_uri": "https://localhost:8080/"
        },
        "id": "FwkJtP0ywkqv",
        "outputId": "8ef08be4-b56c-4105-8d1e-18807cff1289"
      },
      "source": [
        "data_parsed.select(\"Mas Vnr Type\").distinct().show()"
      ],
      "execution_count": 32,
      "outputs": [
        {
          "output_type": "stream",
          "text": [
            "+------------+\n",
            "|Mas Vnr Type|\n",
            "+------------+\n",
            "|        None|\n",
            "|      BrkCmn|\n",
            "|        null|\n",
            "|       Stone|\n",
            "|     BrkFace|\n",
            "|      CBlock|\n",
            "+------------+\n",
            "\n"
          ],
          "name": "stdout"
        }
      ]
    },
    {
      "cell_type": "markdown",
      "metadata": {
        "id": "cWB_53Xp3Xbc"
      },
      "source": [
        "Recaudación total de las viviendas de piedra"
      ]
    },
    {
      "cell_type": "code",
      "metadata": {
        "colab": {
          "base_uri": "https://localhost:8080/"
        },
        "id": "wRkVf5mnwOGW",
        "outputId": "d95b9fdf-ad73-4b76-a2cf-c0894a3c912e"
      },
      "source": [
        "data_processed.filter(data_processed[\"Mas Vnr Type\"] == \"Stone\") \\\n",
        "    .select(sum(\"SalePrice\")) \\\n",
        "    .show()"
      ],
      "execution_count": 33,
      "outputs": [
        {
          "output_type": "stream",
          "text": [
            "+--------------+\n",
            "|sum(SalePrice)|\n",
            "+--------------+\n",
            "|      59855477|\n",
            "+--------------+\n",
            "\n"
          ],
          "name": "stdout"
        }
      ]
    },
    {
      "cell_type": "markdown",
      "metadata": {
        "id": "qBnddkeZ4opu"
      },
      "source": [
        "Calculamos la recaudación media de las casas de piedra para posteriormente poder comparar"
      ]
    },
    {
      "cell_type": "code",
      "metadata": {
        "colab": {
          "base_uri": "https://localhost:8080/"
        },
        "id": "7GJaA4oG4oHT",
        "outputId": "b283632e-d4ad-41de-df49-fe7683664c48"
      },
      "source": [
        "data_processed.filter(data_processed[\"Mas Vnr Type\"] == \"Stone\") \\\n",
        "    .select(F.mean(\"SalePrice\")) \\\n",
        "    .show()"
      ],
      "execution_count": 34,
      "outputs": [
        {
          "output_type": "stream",
          "text": [
            "+------------------+\n",
            "|    avg(SalePrice)|\n",
            "+------------------+\n",
            "|262524.02192982455|\n",
            "+------------------+\n",
            "\n"
          ],
          "name": "stdout"
        }
      ]
    },
    {
      "cell_type": "markdown",
      "metadata": {
        "id": "eBR_T5mg3hIf"
      },
      "source": [
        "Total de recaudación de las viviendas de ladrillo"
      ]
    },
    {
      "cell_type": "code",
      "metadata": {
        "colab": {
          "base_uri": "https://localhost:8080/"
        },
        "id": "TcTSR_5z23XF",
        "outputId": "adf2293d-af5e-413e-8864-5410ff7ed67b"
      },
      "source": [
        "data_processed.where(col(\"Mas Vnr Type\").like(\"%Brk%\")) \\\n",
        "    .select(sum(\"SalePrice\")) \\\n",
        "    .show()"
      ],
      "execution_count": 35,
      "outputs": [
        {
          "output_type": "stream",
          "text": [
            "+--------------+\n",
            "|sum(SalePrice)|\n",
            "+--------------+\n",
            "|     182105036|\n",
            "+--------------+\n",
            "\n"
          ],
          "name": "stdout"
        }
      ]
    },
    {
      "cell_type": "markdown",
      "metadata": {
        "id": "deDEo4bG43NG"
      },
      "source": [
        "Recaudación media de las viviendas de ladrillo"
      ]
    },
    {
      "cell_type": "code",
      "metadata": {
        "colab": {
          "base_uri": "https://localhost:8080/"
        },
        "id": "r6KNlMKg48JG",
        "outputId": "7172fd8c-938b-4cdd-b43c-1ef9d59ffff7"
      },
      "source": [
        "data_processed.where(col(\"Mas Vnr Type\").like(\"%Brk%\")) \\\n",
        "    .select(F.mean(\"SalePrice\")) \\\n",
        "    .show()"
      ],
      "execution_count": 36,
      "outputs": [
        {
          "output_type": "stream",
          "text": [
            "+-----------------+\n",
            "|   avg(SalePrice)|\n",
            "+-----------------+\n",
            "|208836.0504587156|\n",
            "+-----------------+\n",
            "\n"
          ],
          "name": "stdout"
        }
      ]
    },
    {
      "cell_type": "markdown",
      "metadata": {
        "id": "1NR4gzhk5HiQ"
      },
      "source": [
        "Las casas de piedra, son en promedio 53,687.97 dólares más caras, por lo que podríamos concluir que sí existe una diferencia significativa entre las viviendas de ladrillo y las de piedra."
      ]
    },
    {
      "cell_type": "code",
      "metadata": {
        "colab": {
          "base_uri": "https://localhost:8080/"
        },
        "id": "rQJMlnTn5BNz",
        "outputId": "51a90b4a-827e-4164-c2fe-6cfb8ebc5159"
      },
      "source": [
        "262524.02 - 208836.05"
      ],
      "execution_count": 37,
      "outputs": [
        {
          "output_type": "execute_result",
          "data": {
            "text/plain": [
              "53687.97000000003"
            ]
          },
          "metadata": {
            "tags": []
          },
          "execution_count": 37
        }
      ]
    },
    {
      "cell_type": "markdown",
      "metadata": {
        "id": "MNov_AwAcfKJ"
      },
      "source": [
        "## ¿Cuánto son más caras las viviendas con 2 cocinas, con 2 o más plazas de garaje que las que tienen 1 cocina y 1 plaza de garaje? Comparar medias y cuartiles de ambos casos"
      ]
    },
    {
      "cell_type": "code",
      "metadata": {
        "colab": {
          "base_uri": "https://localhost:8080/"
        },
        "id": "wPN09WXowPLU",
        "outputId": "6da2baca-b624-417a-8fd2-3d512f2d2aa0"
      },
      "source": [
        "# Precio medio de las viviendas con dos cocinas y 2 o más garajes\n",
        "data_processed.filter(data_processed[\"Kitchen AbvGr\"] == 2) \\\n",
        "    .filter(data_processed[\"Garage Cars\"] > 1)  \\\n",
        "    .select(F.mean(\"SalePrice\")) \\\n",
        "    .show()"
      ],
      "execution_count": 38,
      "outputs": [
        {
          "output_type": "stream",
          "text": [
            "+------------------+\n",
            "|    avg(SalePrice)|\n",
            "+------------------+\n",
            "|145124.27906976745|\n",
            "+------------------+\n",
            "\n"
          ],
          "name": "stdout"
        }
      ]
    },
    {
      "cell_type": "code",
      "metadata": {
        "colab": {
          "base_uri": "https://localhost:8080/"
        },
        "id": "3kckeEBnwPPw",
        "outputId": "28215ffc-fd78-4eac-d874-e32721a734f1"
      },
      "source": [
        "# Precio medio de las viviendas con una cocinas y un garaje\n",
        "data_processed.filter(data_processed[\"Kitchen AbvGr\"] == 1) \\\n",
        "    .filter(data_processed[\"Garage Cars\"] == 1)  \\\n",
        "    .select(F.mean(\"SalePrice\")) \\\n",
        "    .show()"
      ],
      "execution_count": 39,
      "outputs": [
        {
          "output_type": "stream",
          "text": [
            "+------------------+\n",
            "|    avg(SalePrice)|\n",
            "+------------------+\n",
            "|128121.99337748345|\n",
            "+------------------+\n",
            "\n"
          ],
          "name": "stdout"
        }
      ]
    },
    {
      "cell_type": "markdown",
      "metadata": {
        "id": "Wrj03YgT7jgf"
      },
      "source": [
        "En promedio, las viviendas que tienen dos cocinas y dos o más plazas de garaje, cuestan 17,002.29 dólares más que aquellas con solo una cocina y una plaza de garaje"
      ]
    },
    {
      "cell_type": "code",
      "metadata": {
        "colab": {
          "base_uri": "https://localhost:8080/"
        },
        "id": "FsEfHoQ5wPaD",
        "outputId": "7103505f-fa89-4d12-bbf6-38d7119d5396"
      },
      "source": [
        "145124.28 - 128121.99"
      ],
      "execution_count": 40,
      "outputs": [
        {
          "output_type": "execute_result",
          "data": {
            "text/plain": [
              "17002.289999999994"
            ]
          },
          "metadata": {
            "tags": []
          },
          "execution_count": 40
        }
      ]
    },
    {
      "cell_type": "markdown",
      "metadata": {
        "id": "iTw3xhdBgFYz"
      },
      "source": [
        "Para poder calcular los cuartiles, creamos un dataframe que contenga solo aquellas viviendas con 2 cocinas y con 2 garajes o más."
      ]
    },
    {
      "cell_type": "code",
      "metadata": {
        "colab": {
          "base_uri": "https://localhost:8080/"
        },
        "id": "NN30UajMaQuf",
        "outputId": "bf10560f-f28f-4316-8db7-3dfb35ef9c4b"
      },
      "source": [
        "data_big = data_processed.filter(data_processed[\"Kitchen AbvGr\"] == 2)\n",
        "data_big = data_big.filter(data_processed[\"Garage Cars\"] > 1)\n",
        "data_big.count()"
      ],
      "execution_count": 41,
      "outputs": [
        {
          "output_type": "execute_result",
          "data": {
            "text/plain": [
              "86"
            ]
          },
          "metadata": {
            "tags": []
          },
          "execution_count": 41
        }
      ]
    },
    {
      "cell_type": "code",
      "metadata": {
        "colab": {
          "base_uri": "https://localhost:8080/"
        },
        "id": "pKboBxJc-yCz",
        "outputId": "f6102c81-23ed-4052-eb27-e2c972b01dbe"
      },
      "source": [
        "data_big.show(3)"
      ],
      "execution_count": 42,
      "outputs": [
        {
          "output_type": "stream",
          "text": [
            "+-----+---------+------------+--------+------------+----------+------------+----------+--------------+------------+----------+---------+-------------+----------+-----------+---------+---------+-------------+-------------+------------+-------------+-----------+-----------+-----------+---------+-------+-------+-------+---------+------------------+--------------+---------------------+\n",
            "|Order|MS Zoning|Lot Frontage|Lot Area|Land Contour|Land Slope|Overall Qual|Year Built|Year Remod/Add|Mas Vnr Type|Exter Qual|Bsmt Cond|Total Bsmt SF|Heating QC|Central Air|Full Bath|Half Bath|Bedroom AbvGr|Kitchen AbvGr|Kitchen Qual|TotRms AbvGrd|Garage Cars|Garage Area|Garage Cond|Pool Area|Pool QC|Mo Sold|Yr Sold|SalePrice|            decada|metro_cuadrado|Precio_metro_cuadrado|\n",
            "+-----+---------+------------+--------+------------+----------+------------+----------+--------------+------------+----------+---------+-------------+----------+-----------+---------+---------+-------------+-------------+------------+-------------+-----------+-----------+-----------+---------+-------+-------+-------+---------+------------------+--------------+---------------------+\n",
            "| 1386|       RL|          60|   12900|         Lvl|       Gtl|           4|      1969|          1969|        None|        TA|       TA|         1198|        TA|          Y|        0|        2|            0|            2|          TA|            6|          2|        400|         TA|        0|     Sp|      1|   2008|   108959|décadas hasta 1899|        1161.0|    93.84926787252368|\n",
            "| 1589|       RM|          97|    8940|         Lvl|       Gtl|           7|      1997|          1998|     BrkFace|        TA|       Gd|         1344|        Ex|          Y|        2|        0|            2|            2|          TA|            8|          4|        784|         TA|        0|     Sp|     11|   2008|   209200|    decada de 1990|         804.6|    260.0049714143674|\n",
            "| 2488|       RM|          68|    8927|         Lvl|       Gtl|           6|      1977|          1977|        None|        TA|       Ss|            0|        TA|          Y|        2|        0|            4|            2|          TA|           10|          2|        528|         TA|        0|     Sp|      8|   2006|   119500|décadas hasta 1899|        803.43|   148.73728887395293|\n",
            "+-----+---------+------------+--------+------------+----------+------------+----------+--------------+------------+----------+---------+-------------+----------+-----------+---------+---------+-------------+-------------+------------+-------------+-----------+-----------+-----------+---------+-------+-------+-------+---------+------------------+--------------+---------------------+\n",
            "only showing top 3 rows\n",
            "\n"
          ],
          "name": "stdout"
        }
      ]
    },
    {
      "cell_type": "markdown",
      "metadata": {
        "id": "IRXqr4L9gDZl"
      },
      "source": [
        "Primer cuartil:"
      ]
    },
    {
      "cell_type": "code",
      "metadata": {
        "colab": {
          "base_uri": "https://localhost:8080/"
        },
        "id": "W7clw8UUgVPC",
        "outputId": "292caa34-9c6a-40b1-e8f2-f206f58cfd9a"
      },
      "source": [
        "data_big.approxQuantile(\"SalePrice\", [0.25], 0)"
      ],
      "execution_count": 43,
      "outputs": [
        {
          "output_type": "execute_result",
          "data": {
            "text/plain": [
              "[118964.0]"
            ]
          },
          "metadata": {
            "tags": []
          },
          "execution_count": 43
        }
      ]
    },
    {
      "cell_type": "markdown",
      "metadata": {
        "id": "cBdiSWy5gZLe"
      },
      "source": [
        "La mediana es de 141,000 dólares. Esta es ligeramente más baja que la media por cerca de 4,000 dólares. "
      ]
    },
    {
      "cell_type": "code",
      "metadata": {
        "colab": {
          "base_uri": "https://localhost:8080/"
        },
        "id": "SQrGszUVaBtA",
        "outputId": "492b73e3-7cb2-4c23-ae85-16fc8497baab"
      },
      "source": [
        "data_big.approxQuantile(\"SalePrice\", [0.5], 0)"
      ],
      "execution_count": 44,
      "outputs": [
        {
          "output_type": "execute_result",
          "data": {
            "text/plain": [
              "[141000.0]"
            ]
          },
          "metadata": {
            "tags": []
          },
          "execution_count": 44
        }
      ]
    },
    {
      "cell_type": "markdown",
      "metadata": {
        "id": "dWZY6T_qg2Zy"
      },
      "source": [
        "El tercer cuartil:"
      ]
    },
    {
      "cell_type": "code",
      "metadata": {
        "colab": {
          "base_uri": "https://localhost:8080/"
        },
        "id": "et4kw7Nrg5Xo",
        "outputId": "d23699b9-c35f-4ecc-b60b-eee7b8f0bc61"
      },
      "source": [
        "data_big.approxQuantile(\"SalePrice\", [0.75], 0)"
      ],
      "execution_count": 45,
      "outputs": [
        {
          "output_type": "execute_result",
          "data": {
            "text/plain": [
              "[159000.0]"
            ]
          },
          "metadata": {
            "tags": []
          },
          "execution_count": 45
        }
      ]
    },
    {
      "cell_type": "markdown",
      "metadata": {
        "id": "8K4NjufLIylu"
      },
      "source": [
        "El Precio de venta máximo de las viviendas con 2 cocinas y más de 2 garajes es el siguiente:"
      ]
    },
    {
      "cell_type": "code",
      "metadata": {
        "colab": {
          "base_uri": "https://localhost:8080/"
        },
        "id": "9681c3XEIxh8",
        "outputId": "4d054300-fff8-4894-c8f4-9d742d4fef6b"
      },
      "source": [
        "data_big.agg(F.max(\"SalePrice\")).show()"
      ],
      "execution_count": 46,
      "outputs": [
        {
          "output_type": "stream",
          "text": [
            "+--------------+\n",
            "|max(SalePrice)|\n",
            "+--------------+\n",
            "|        269500|\n",
            "+--------------+\n",
            "\n"
          ],
          "name": "stdout"
        }
      ]
    },
    {
      "cell_type": "markdown",
      "metadata": {
        "id": "K4qnolZ6hC9A"
      },
      "source": [
        "Hacemos lo mismo para el segundo tipo de viviendas:"
      ]
    },
    {
      "cell_type": "code",
      "metadata": {
        "colab": {
          "base_uri": "https://localhost:8080/"
        },
        "id": "vyTu1binfwIN",
        "outputId": "2880baa1-b1f9-471b-94d3-c1a5c5e861eb"
      },
      "source": [
        "data_small = data_processed.filter(data_processed[\"Kitchen AbvGr\"] == 1)\n",
        "data_small = data_small.filter(data_processed[\"Garage Cars\"] == 1)\n",
        "data_small.count()"
      ],
      "execution_count": 47,
      "outputs": [
        {
          "output_type": "execute_result",
          "data": {
            "text/plain": [
              "755"
            ]
          },
          "metadata": {
            "tags": []
          },
          "execution_count": 47
        }
      ]
    },
    {
      "cell_type": "code",
      "metadata": {
        "colab": {
          "base_uri": "https://localhost:8080/"
        },
        "id": "VeWCD3F7_Pbb",
        "outputId": "1994b65e-26f0-495d-c8a4-df0de3f3137d"
      },
      "source": [
        "data_small.show(3)"
      ],
      "execution_count": 48,
      "outputs": [
        {
          "output_type": "stream",
          "text": [
            "+-----+---------+------------+--------+------------+----------+------------+----------+--------------+------------+----------+---------+-------------+----------+-----------+---------+---------+-------------+-------------+------------+-------------+-----------+-----------+-----------+---------+-------+-------+-------+---------+------------------+-----------------+---------------------+\n",
            "|Order|MS Zoning|Lot Frontage|Lot Area|Land Contour|Land Slope|Overall Qual|Year Built|Year Remod/Add|Mas Vnr Type|Exter Qual|Bsmt Cond|Total Bsmt SF|Heating QC|Central Air|Full Bath|Half Bath|Bedroom AbvGr|Kitchen AbvGr|Kitchen Qual|TotRms AbvGrd|Garage Cars|Garage Area|Garage Cond|Pool Area|Pool QC|Mo Sold|Yr Sold|SalePrice|            decada|   metro_cuadrado|Precio_metro_cuadrado|\n",
            "+-----+---------+------------+--------+------------+----------+------------+----------+--------------+------------+----------+---------+-------------+----------+-----------+---------+---------+-------------+-------------+------------+-------------+-----------+-----------+-----------+---------+-------+-------+-------+---------+------------------+-----------------+---------------------+\n",
            "|  890|       RL|          80|   10682|         Lvl|       Gtl|           4|      1960|          1971|        None|        TA|       TA|         1014|        TA|          Y|        1|        0|            3|            1|          TA|            7|          1|        544|         TA|        0|     Sp|      7|   2009|   127000|décadas hasta 1899|           961.38|   132.10177037175725|\n",
            "| 2589|       RL|          80|   13600|         Bnk|       Gtl|           5|      1955|          1955|        None|        TA|       TA|         1056|        Gd|          Y|        1|        1|            3|            1|          TA|            6|          1|        300|         TA|        0|     Sp|     11|   2006|   125000|décadas hasta 1899|           1224.0|   102.12418300653594|\n",
            "|  673|       RL|          64|    8712|         Lvl|       Gtl|           5|      1957|          2000|        None|        TA|       TA|          992|        TA|          Y|        1|        0|            2|            1|          TA|            5|          1|        756|         TA|        0|     Sp|      5|   2009|   153000|décadas hasta 1899|784.0799999999999|   195.13314967860424|\n",
            "+-----+---------+------------+--------+------------+----------+------------+----------+--------------+------------+----------+---------+-------------+----------+-----------+---------+---------+-------------+-------------+------------+-------------+-----------+-----------+-----------+---------+-------+-------+-------+---------+------------------+-----------------+---------------------+\n",
            "only showing top 3 rows\n",
            "\n"
          ],
          "name": "stdout"
        }
      ]
    },
    {
      "cell_type": "markdown",
      "metadata": {
        "id": "VmyGN9scHRND"
      },
      "source": [
        "Primer cuartil:"
      ]
    },
    {
      "cell_type": "code",
      "metadata": {
        "colab": {
          "base_uri": "https://localhost:8080/"
        },
        "id": "_pyvfkZgfwUC",
        "outputId": "00884d26-97f7-4efe-f682-ec5f1d90c792"
      },
      "source": [
        "data_small.approxQuantile(\"SalePrice\", [0.25], 0)"
      ],
      "execution_count": 49,
      "outputs": [
        {
          "output_type": "execute_result",
          "data": {
            "text/plain": [
              "[111500.0]"
            ]
          },
          "metadata": {
            "tags": []
          },
          "execution_count": 49
        }
      ]
    },
    {
      "cell_type": "markdown",
      "metadata": {
        "id": "IAYpB5AUE_fI"
      },
      "source": [
        "La diferencia entre la media y la mediana es muy pequeña."
      ]
    },
    {
      "cell_type": "code",
      "metadata": {
        "colab": {
          "base_uri": "https://localhost:8080/"
        },
        "id": "RVAhaaldfwRL",
        "outputId": "7d49cf33-61f8-4d75-c9e9-5113c51237e8"
      },
      "source": [
        "data_small.approxQuantile(\"SalePrice\", [0.50], 0)"
      ],
      "execution_count": 50,
      "outputs": [
        {
          "output_type": "execute_result",
          "data": {
            "text/plain": [
              "[128000.0]"
            ]
          },
          "metadata": {
            "tags": []
          },
          "execution_count": 50
        }
      ]
    },
    {
      "cell_type": "markdown",
      "metadata": {
        "id": "-WsCeWRZHUAJ"
      },
      "source": [
        "Tercer cuartil"
      ]
    },
    {
      "cell_type": "code",
      "metadata": {
        "colab": {
          "base_uri": "https://localhost:8080/"
        },
        "id": "2sZHWQOtfwW0",
        "outputId": "5120e283-4500-4623-a625-c9dba7f1fd33"
      },
      "source": [
        "data_small.approxQuantile(\"SalePrice\", [0.75], 0)"
      ],
      "execution_count": 51,
      "outputs": [
        {
          "output_type": "execute_result",
          "data": {
            "text/plain": [
              "[142125.0]"
            ]
          },
          "metadata": {
            "tags": []
          },
          "execution_count": 51
        }
      ]
    },
    {
      "cell_type": "markdown",
      "metadata": {
        "id": "giUunvT6I-YK"
      },
      "source": [
        "Precio de venta máximo:"
      ]
    },
    {
      "cell_type": "code",
      "metadata": {
        "colab": {
          "base_uri": "https://localhost:8080/"
        },
        "id": "c4TsKkc6HmSI",
        "outputId": "f653f30d-b2ad-4f2b-aeb8-2a5482a42443"
      },
      "source": [
        "data_small.agg(F.max(\"SalePrice\")).show()"
      ],
      "execution_count": 52,
      "outputs": [
        {
          "output_type": "stream",
          "text": [
            "+--------------+\n",
            "|max(SalePrice)|\n",
            "+--------------+\n",
            "|        330000|\n",
            "+--------------+\n",
            "\n"
          ],
          "name": "stdout"
        }
      ]
    },
    {
      "cell_type": "markdown",
      "metadata": {
        "id": "gbqWszcw_pCQ"
      },
      "source": [
        "Es destacable que en el dataset hay 87 viviendas con 2 cocinas y 2 o más plazad de garaje, frente a 769 con una cocina y una plaza de garaje. De media hemos visto que el primer tipo tienen un precio de venta mayor. Si comparamos para cada cuartil, también se cumple que sea mayor el precio del primer tio de vivienda.\n",
        "\n",
        "Aunque para cada cuartil, a medida que aumenta también aumenta la diferencia de precio entre ambos tipos de vivienda, si atendemos al valor máximo, llama la atención que la vivienda con el precio mayor pertence a una con un solo garaje y cocina."
      ]
    },
    {
      "cell_type": "markdown",
      "metadata": {
        "id": "AKiH9jcucfKJ"
      },
      "source": [
        "## (COMPLEMENTARIA) Estudiar la relación entre el precio y el número de Garajes. (Recomiendo segmentar precio por cuartiles y estudiar el número de casos coincidentes)"
      ]
    },
    {
      "cell_type": "markdown",
      "metadata": {
        "id": "Q8ByBLeaT3sk"
      },
      "source": [
        "Si atendendemos al gráfico que se muestra a continuación, podemos ver cómo a medida que aumenta el número de garajes aumenta la dispersión en el precio. Excepto cuando el número de garajes es superior a 3. Además existe un valor atípico de una vivienda con 5 garajes.\n",
        "\n",
        "Se puede intuir que sí hay una correlación (en promedio) cuando comparamos entre 0 y 3 garajes, aunque esta no es clara."
      ]
    },
    {
      "cell_type": "code",
      "metadata": {
        "colab": {
          "base_uri": "https://localhost:8080/",
          "height": 279
        },
        "id": "KxUts1dhKOnm",
        "outputId": "32037854-50eb-40a8-eb18-17dd7e14df33"
      },
      "source": [
        "import pandas as pd\n",
        "    \n",
        "pandas_dataset = data_processed.toPandas()\n",
        "\n",
        "pandas_dataset.plot.scatter(x=\"Garage Cars\", y=\"SalePrice\");"
      ],
      "execution_count": 53,
      "outputs": [
        {
          "output_type": "display_data",
          "data": {
            "image/png": "[encoded data removed]",
            "text/plain": [
              "<Figure size 432x288 with 1 Axes>"
            ]
          },
          "metadata": {
            "tags": [],
            "needs_background": "light"
          }
        }
      ]
    },
    {
      "cell_type": "markdown",
      "metadata": {
        "id": "G6RyQ05RcfKJ"
      },
      "source": [
        "## (COMPLEMENTARIA) Las 10 viviendas con mejores servicios y mejor precio."
      ]
    },
    {
      "cell_type": "markdown",
      "metadata": {
        "id": "DU8R9hjQcfKK"
      },
      "source": [
        "### Pista:\n",
        "#### Calcula las variables: \n",
        "- Número de servicios excelentes\n",
        "- Número de servicios buenos\n",
        "...\n",
        "\n",
        "#### Tendréis que tener en cuenta también variables como número de baños Full Bath, cocinas Kitchen AbvGr o dormitorios Bedroom AbvGr. Generando por ejemplo (número de estas variables por encima de media)\n",
        "\n",
        "#### Finalmente precio de venta"
      ]
    }
  ]
}