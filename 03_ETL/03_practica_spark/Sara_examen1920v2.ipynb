{
  "nbformat": 4,
  "nbformat_minor": 0,
  "metadata": {
    "kernelspec": {
      "display_name": "Python 3",
      "language": "python",
      "name": "python3"
    },
    "language_info": {
      "codemirror_mode": {
        "name": "ipython",
        "version": 3
      },
      "file_extension": ".py",
      "mimetype": "text/x-python",
      "name": "python",
      "nbconvert_exporter": "python",
      "pygments_lexer": "ipython3",
      "version": "3.7.4"
    },
    "colab": {
      "name": "Bengoechea_Sara_examen1920v2.ipynb",
      "provenance": [],
      "collapsed_sections": []
    }
  },
  "cells": [
    {
      "cell_type": "markdown",
      "metadata": {
        "id": "5fEMrxuxDnHE"
      },
      "source": [
        "## 1. The World Bank's international debt data\n",
        "<p>No es que los humanos solo tengamos deudas para administrar nuestras necesidades. Un país también puede endeudarse para administrar su economía. Por ejemplo, el gasto en infraestructura es un ingrediente costoso requerido para que los ciudadanos de un país lleven una vida cómoda. El Banco Mundial es la organización que proporciona deuda a los países.</p>\n",
        "\n",
        "<!-- <p>En este notebook, vamos a analizar los datos de la deuda internacional recopilados por el Banco Mundial. El conjunto de datos contiene información sobre el monto de la deuda (en USD) que deben los países en desarrollo en varias categorías.</p>  -->\n",
        "    "
      ]
    },
    {
      "cell_type": "markdown",
      "metadata": {
        "id": "XL6qwTr7DnHQ"
      },
      "source": [
        "\"Disbursements on external debt, long-term (DIS, current US$)\",DT.DIS.DLXF.CD\n",
        "\"Interest payments on external debt, long-term (INT, current US$)\",DT.INT.DLXF.CD\n",
        "\"PPG, bilateral (AMT, current US$)\",DT.AMT.BLAT.CD\n",
        "\"PPG, bilateral (DIS, current US$)\",DT.DIS.BLAT.CD\n",
        "\"PPG, bilateral (INT, current US$)\",DT.INT.BLAT.CD\n",
        "\"PPG, multilateral (AMT, current US$)\",DT.AMT.MLAT.CD\n",
        "\"PPG, multilateral (DIS, current US$)\",DT.DIS.MLAT.CD\n",
        "\"PPG, multilateral (INT, current US$)\",DT.INT.MLAT.CD\n",
        "\"PPG, official creditors (AMT, current US$)\",DT.AMT.OFFT.CD\n",
        "\"PPG, official creditors (DIS, current US$)\",DT.DIS.OFFT.CD\n",
        "\"PPG, official creditors (INT, current US$)\",DT.INT.OFFT.CD\n",
        "\"Principal repayments on external debt, long-term (AMT, current US$)\",DT.AMT.DLXF.CD\n",
        "\"Interest payments on external debt, private nonguaranteed (PNG) (INT, current US$)\",DT.INT.DPNG.CD\n",
        "\"PPG, bonds (AMT, current US$)\",DT.AMT.PBND.CD\n",
        "\"PPG, bonds (INT, current US$)\",DT.INT.PBND.CD\n",
        "\"PPG, commercial banks (AMT, current US$)\",DT.AMT.PCBK.CD\n",
        "\"PPG, commercial banks (DIS, current US$)\",DT.DIS.PCBK.CD\n",
        "\"PPG, commercial banks (INT, current US$)\",DT.INT.PCBK.CD\n",
        "\"PPG, other private creditors (AMT, current US$)\",DT.AMT.PROP.CD\n",
        "\"PPG, other private creditors (DIS, current US$)\",DT.DIS.PROP.CD\n",
        "\"PPG, other private creditors (INT, current US$)\",DT.INT.PROP.CD\n",
        "\"PPG, private creditors (AMT, current US$)\",DT.AMT.PRVT.CD\n",
        "\"PPG, private creditors (DIS, current US$)\",DT.DIS.PRVT.CD\n",
        "\"PPG, private creditors (INT, current US$)\",DT.INT.PRVT.CD\n",
        "\"Principal repayments on external debt, private nonguaranteed (PNG) (AMT, current US$)\",DT.AMT.DPNG.CD"
      ]
    },
    {
      "cell_type": "markdown",
      "metadata": {
        "id": "n0s-VtnvDnHR"
      },
      "source": [
        "<p>Vamos a encontrar las respuestas a preguntas como:\n",
        "\n",
        "<p>¿Cuál es el monto total de la deuda que deben los países enumerados en el conjunto de datos?\n",
        "<p>¿Qué país posee la cantidad máxima de deuda y cómo se ve esa cantidad?\n",
        "<p>¿Cuál es el monto promedio de la deuda de los países a través de diferentes indicadores de deuda?\n",
        "    \n",
        "Además tenemos otro dataset en el que encontramos información histórica de algunos índices de desarrollo, entre los que se encuentran algunos de deuda como son:"
      ]
    },
    {
      "cell_type": "markdown",
      "metadata": {
        "id": "VyuRoaNoDnHR"
      },
      "source": [
        "Series Name,Series Code\n",
        "\"Birth rate, crude (per 1,000 people)\",SP.DYN.CBRT.IN\n",
        "\n",
        "\"Central government debt, total (current LCU)\",GC.DOD.TOTL.CN\n",
        "\n",
        "\"Central government debt, total (% of GDP)\",GC.DOD.TOTL.GD.ZS"
      ]
    },
    {
      "cell_type": "markdown",
      "metadata": {
        "id": "QP1TUbN-DnHS"
      },
      "source": [
        "#### 1. Inicializar y cargar el contexto spark"
      ]
    },
    {
      "cell_type": "code",
      "metadata": {
        "id": "MPn9mwCTDv7x"
      },
      "source": [
        "!apt-get install openjdk-8-jdk-headless -qq > /dev/null\n",
        "!wget -q https://www-us.apache.org/dist/spark/spark-2.4.7/spark-2.4.7-bin-hadoop2.7.tgz\n",
        "!tar xf spark-2.4.7-bin-hadoop2.7.tgz\n",
        "!pip install -q findspark\n"
      ],
      "execution_count": null,
      "outputs": []
    },
    {
      "cell_type": "code",
      "metadata": {
        "id": "mbzb182sEB9s"
      },
      "source": [
        "import os\n",
        "os.environ[\"JAVA_HOME\"] = \"/usr/lib/jvm/java-8-openjdk-amd64\"\n",
        "os.environ[\"SPARK_HOME\"] = \"/content/spark-2.4.7-bin-hadoop2.7\""
      ],
      "execution_count": null,
      "outputs": []
    },
    {
      "cell_type": "code",
      "metadata": {
        "id": "egWLX9QgECFf"
      },
      "source": [
        "import findspark\n",
        "findspark.init()\n",
        "from pyspark import SparkContext # de foto de Michelle\n",
        "sc = SparkContext.getOrCreate() # de foto de Michelle\n",
        "from pyspark.sql import SparkSession \n",
        "spark = SparkSession.builder.master(\"local[*]\").getOrCreate()"
      ],
      "execution_count": null,
      "outputs": []
    },
    {
      "cell_type": "code",
      "metadata": {
        "id": "0qF2328Pbwcw"
      },
      "source": [
        "from pyspark.sql import *\n",
        "from pyspark.sql import SQLContext, functions as F, Row\n",
        "from pyspark.sql.types import *\n",
        "from pyspark.sql.types import StringType, IntegerType"
      ],
      "execution_count": null,
      "outputs": []
    },
    {
      "cell_type": "markdown",
      "metadata": {
        "id": "bpZMG_t4m-DC"
      },
      "source": [
        "Importamos los datos"
      ]
    },
    {
      "cell_type": "code",
      "metadata": {
        "id": "BZtUuqHpG65s"
      },
      "source": [
        "data_file = \"indicadores_deuda.csv\""
      ],
      "execution_count": null,
      "outputs": []
    },
    {
      "cell_type": "code",
      "metadata": {
        "id": "M56EDERREir7"
      },
      "source": [
        "deuda_raw = sc.textFile(data_file)"
      ],
      "execution_count": null,
      "outputs": []
    },
    {
      "cell_type": "markdown",
      "metadata": {
        "id": "3TdlFT0Yaif_"
      },
      "source": [
        "Separamos por comas"
      ]
    },
    {
      "cell_type": "code",
      "metadata": {
        "id": "PFDEHtQWMxH8"
      },
      "source": [
        "deuda_parsed = deuda_raw.map(lambda x: x.split(\",\"))"
      ],
      "execution_count": null,
      "outputs": []
    },
    {
      "cell_type": "markdown",
      "metadata": {
        "id": "jC7TIY5Dalki"
      },
      "source": [
        "Comprobamos"
      ]
    },
    {
      "cell_type": "code",
      "metadata": {
        "colab": {
          "base_uri": "https://localhost:8080/"
        },
        "id": "oUMU0mAuNMCc",
        "outputId": "e97c9c11-59c8-4336-fad9-642ebbd58ff7"
      },
      "source": [
        "deuda_parsed.take(2)"
      ],
      "execution_count": null,
      "outputs": [
        {
          "output_type": "execute_result",
          "data": {
            "text/plain": [
              "[['country_name',\n",
              "  'country_code',\n",
              "  'DT.AMT.BLAT.CD',\n",
              "  'DT.AMT.DLXF.CD',\n",
              "  'DT.AMT.DPNG.CD',\n",
              "  'DT.AMT.MLAT.CD',\n",
              "  'DT.AMT.OFFT.CD',\n",
              "  'DT.AMT.PBND.CD',\n",
              "  'DT.AMT.PCBK.CD',\n",
              "  'DT.AMT.PROP.CD',\n",
              "  'DT.AMT.PRVT.CD',\n",
              "  'DT.DIS.BLAT.CD',\n",
              "  'DT.DIS.DLXF.CD',\n",
              "  'DT.DIS.MLAT.CD',\n",
              "  'DT.DIS.OFFT.CD',\n",
              "  'DT.DIS.PCBK.CD',\n",
              "  'DT.DIS.PROP.CD',\n",
              "  'DT.DIS.PRVT.CD',\n",
              "  'DT.INT.BLAT.CD',\n",
              "  'DT.INT.DLXF.CD',\n",
              "  'DT.INT.DPNG.CD',\n",
              "  'DT.INT.MLAT.CD',\n",
              "  'DT.INT.OFFT.CD',\n",
              "  'DT.INT.PBND.CD',\n",
              "  'DT.INT.PCBK.CD',\n",
              "  'DT.INT.PROP.CD',\n",
              "  'DT.INT.PRVT.CD'],\n",
              " ['Afghanistan',\n",
              "  'AFG',\n",
              "  '61739336.9',\n",
              "  '100847181.9',\n",
              "  '',\n",
              "  '39107845',\n",
              "  '100847181.9',\n",
              "  '',\n",
              "  '',\n",
              "  '',\n",
              "  '',\n",
              "  '49114729.4',\n",
              "  '72894453.7',\n",
              "  '23779724.3',\n",
              "  '72894453.7',\n",
              "  '',\n",
              "  '',\n",
              "  '',\n",
              "  '39903620.1',\n",
              "  '53239440.1',\n",
              "  '',\n",
              "  '13335820',\n",
              "  '53239440.1',\n",
              "  '',\n",
              "  '',\n",
              "  '',\n",
              "  '']]"
            ]
          },
          "metadata": {
            "tags": []
          },
          "execution_count": 51
        }
      ]
    },
    {
      "cell_type": "markdown",
      "metadata": {
        "id": "vioaiVSDdO7R"
      },
      "source": [
        "Importamos el csv de deuda con los nombres cambiados para no tener problemas posteriormente por los puntos de los nombres de las columnas"
      ]
    },
    {
      "cell_type": "code",
      "metadata": {
        "id": "xEwWI_n7ZexZ"
      },
      "source": [
        "import pandas as pd\n",
        "deuda = pd.read_csv('indicadores_deuda.csv', sep = \",\", names = ['country_name', 'country_code','DT_AMT_BLAT_CD','DT_AMT_DLXF_CD','DT_AMT_DPNG_CD','DT_AMT_MLAT_CD',\n",
        "  'DT_AMT_OFFT_CD',\n",
        "  'DT_AMT_PBND_CD',\n",
        "  'DT_AMT_PCBK_CD',\n",
        "  'DT_AMT_PROP_CD',\n",
        "  'DT_AMT_PRVT_CD',\n",
        "  'DT_DIS_BLAT_CD',\n",
        "  'DT_DIS_DLXF_CD',\n",
        "  'DT_DIS_MLAT_CD',\n",
        "  'DT_DIS_OFFT_CD',\n",
        "  'DT_DIS_PCBK_CD',\n",
        "  'DT_DIS_PROP_CD',\n",
        "  'DT_DIS_PRVT_CD',\n",
        "  'DT_INT_BLAT_CD',\n",
        "  'DT_INT_DLXF_CD',\n",
        "  'DT_INT_DPNG_CD',\n",
        "  'DT_INT_MLAT_CD',\n",
        "  'DT_INT_OFFT_CD',\n",
        "  'DT_INT_PBND_CD',\n",
        "  'DT_INT_PCBK_CD',\n",
        "  'DT_INT_PROP_CD',\n",
        "  'DT_INT_PRVT_CD'],\n",
        "  skiprows = 1 ) # skip la fila del header ya que lo nombramos manualmente"
      ],
      "execution_count": null,
      "outputs": []
    },
    {
      "cell_type": "markdown",
      "metadata": {
        "id": "5dg43XXFdhYe"
      },
      "source": [
        "Convertimos en dataframe de sql"
      ]
    },
    {
      "cell_type": "code",
      "metadata": {
        "id": "tIlwjhcF9Hr0"
      },
      "source": [
        "sqlContext = SQLContext(sc)"
      ],
      "execution_count": null,
      "outputs": []
    },
    {
      "cell_type": "code",
      "metadata": {
        "colab": {
          "base_uri": "https://localhost:8080/"
        },
        "id": "z-S5-eKqcf1N",
        "outputId": "9ab371ec-a61a-4578-c50b-0a54151f76ce"
      },
      "source": [
        "deuda_df = sqlContext.createDataFrame(deuda)\n",
        "deuda_df.show(10)"
      ],
      "execution_count": null,
      "outputs": [
        {
          "output_type": "stream",
          "text": [
            "+------------+------------+--------------+----------------+--------------+--------------+--------------+--------------+--------------+--------------+--------------+--------------+----------------+--------------+--------------+--------------+--------------+--------------+--------------+--------------+--------------+--------------+--------------+--------------+--------------+--------------+--------------+\n",
            "|country_name|country_code|DT_AMT_BLAT_CD|  DT_AMT_DLXF_CD|DT_AMT_DPNG_CD|DT_AMT_MLAT_CD|DT_AMT_OFFT_CD|DT_AMT_PBND_CD|DT_AMT_PCBK_CD|DT_AMT_PROP_CD|DT_AMT_PRVT_CD|DT_DIS_BLAT_CD|  DT_DIS_DLXF_CD|DT_DIS_MLAT_CD|DT_DIS_OFFT_CD|DT_DIS_PCBK_CD|DT_DIS_PROP_CD|DT_DIS_PRVT_CD|DT_INT_BLAT_CD|DT_INT_DLXF_CD|DT_INT_DPNG_CD|DT_INT_MLAT_CD|DT_INT_OFFT_CD|DT_INT_PBND_CD|DT_INT_PCBK_CD|DT_INT_PROP_CD|DT_INT_PRVT_CD|\n",
            "+------------+------------+--------------+----------------+--------------+--------------+--------------+--------------+--------------+--------------+--------------+--------------+----------------+--------------+--------------+--------------+--------------+--------------+--------------+--------------+--------------+--------------+--------------+--------------+--------------+--------------+--------------+\n",
            "| Afghanistan|         AFG|  6.17393369E7|   1.008471819E8|           NaN|   3.9107845E7| 1.008471819E8|           NaN|           NaN|           NaN|           NaN|  4.91147294E7|    7.28944537E7|  2.37797243E7|  7.28944537E7|           NaN|           NaN|           NaN|  3.99036201E7|  5.32394401E7|           NaN|    1.333582E7|  5.32394401E7|           NaN|           NaN|           NaN|           NaN|\n",
            "|     Albania|         ALB|  5.42502806E7|   7.902486752E8|   5.1418562E8| 1.821976167E8| 2.364478973E8|           0.0|  3.94451395E7|      170018.4|  3.96151579E7|  7.60506161E7|   3.171945125E8| 2.343212423E8| 3.103718584E8|     4542664.9|     2279989.2|     6822654.1|  1.38473336E7| 1.656023869E8|      8.7884E7|  2.81015361E7|  4.19488697E7|  3.10306882E7|     4618504.3|      120324.7|  3.57695172E7|\n",
            "|     Algeria|         DZA|  9.51887246E7|   1.711851881E8|       7.542E7|           0.0|  9.51887246E7|           NaN|      576463.5|           0.0|      576463.5|  1.03207722E7|    1.03207722E7|           NaN|  1.03207722E7|           NaN|           NaN|           NaN|     7680627.6|  1.90317287E7|     3220000.0|     8094779.0|  1.57754066E7|           NaN|       13192.3|       23129.8|       36322.1|\n",
            "|      Angola|         AGO|8.4738240163E9|1.10670456281E10|           NaN| 1.246886919E8|8.5985127082E9|         1.0E9|1.1250887199E9|    3.434442E8|2.4685329199E9|8.8382569011E9|1.09240180931E10| 1.789895982E8|9.0172464993E9|1.9067715938E9|           NaN|1.9067715938E9|1.0050539651E9|1.7985504455E9|           NaN|  4.70384761E7|1.0520924412E9|         7.0E7| 5.809020043E8|      9.5556E7| 7.464580043E8|\n",
            "|     Armenia|         ARM|  6.89683147E7|   8.456307238E8|   6.8069619E8|  9.43312071E7| 1.632995218E8|           0.0|     1635012.0|           NaN|     1635012.0| 1.742698467E8|   4.269591756E8| 2.526893289E8| 4.269591756E8|           NaN|           NaN|           NaN|   2.4094832E7| 2.752929811E8|     1.28076E8|  5.71714639E7|  8.12662959E7|      6.5754E7|      196685.2|           NaN|  6.59506852E7|\n",
            "|  Azerbaijan|         AZE|  1.06369937E8|  1.5138136614E9| 4.660968139E8| 5.136236565E8| 6.199935935E8|           0.0| 4.236131038E8|     4110150.2|  4.27723254E8|  8.47480796E7|  1.0884580612E9|  6.56158982E8| 7.409070616E8| 3.475509996E8|           NaN| 3.475509996E8|    1.008595E7| 4.957328581E8|   7.4183981E7| 1.365771469E8| 1.466630969E8|     2.25022E8|  4.95747802E7|      289000.0| 2.748857802E8|\n",
            "|  Bangladesh|         BGD| 3.867022198E8|  2.0770145529E9|      6.4512E8|1.0395646827E9|1.4262669025E9|           NaN|     3943983.7|     1683666.7|     5627650.4|6.1417856375E9|  9.0505576119E9|2.9087719744E9|9.0505576119E9|           NaN|           NaN|           NaN| 3.090797734E8| 8.211464487E8|     1.55543E8| 3.563926753E8| 6.654724487E8|           NaN|           0.0|      131000.0|      131000.0|\n",
            "|     Belarus|         BLR|1.4873632785E9|  4.6400378842E9|1.5932654913E9|  5.95438826E8|2.0828021045E9|           0.0| 9.350582884E8|      2.8912E7| 9.639702884E8|2.2653363867E9|  2.5252274149E9|  2.41493806E8|2.5068301927E9|           NaN|  1.83972222E7|  1.83972222E7| 6.302349149E8|1.2144898971E9| 2.726403064E8| 1.330265799E8| 7.632614948E8|      1.0075E8|  7.70990959E7|      739000.0| 1.785880959E8|\n",
            "|      Belize|         BLZ|  2.33294984E7|   1.056099249E8|      2.6272E7|  2.96833265E7|  5.30128249E7|     2.63251E7|           0.0|           NaN|     2.63251E7|     3581448.7|    5.34295276E7|  4.98480789E7|  5.34295276E7|           NaN|           NaN|           NaN|     3455608.4|  5.35654371E7|     4480000.0|  1.09968287E7|  1.44524371E7|      3.3549E7|     1084000.0|           NaN|      3.4633E7|\n",
            "|       Benin|         BEN|  2.60145058E7|   1.463219583E8|           NaN|  9.16316395E7| 1.176461453E8|           NaN|   2.8675813E7|           NaN|   2.8675813E7| 3.346982873E8|   6.484447729E8| 2.697474412E8| 6.044457285E8|  4.39990444E7|           NaN|  4.39990444E7|  1.32084086E7|  5.02930119E7|           NaN|  3.35193037E7|  4.67277123E7|           NaN|     3565299.6|           NaN|     3565299.6|\n",
            "+------------+------------+--------------+----------------+--------------+--------------+--------------+--------------+--------------+--------------+--------------+--------------+----------------+--------------+--------------+--------------+--------------+--------------+--------------+--------------+--------------+--------------+--------------+--------------+--------------+--------------+--------------+\n",
            "only showing top 10 rows\n",
            "\n"
          ],
          "name": "stdout"
        }
      ]
    },
    {
      "cell_type": "markdown",
      "metadata": {
        "id": "Dbij3KO0Hsds"
      },
      "source": [
        "Importamos el dataset de desarrollo"
      ]
    },
    {
      "cell_type": "code",
      "metadata": {
        "id": "-Rl3FIvPQRab"
      },
      "source": [
        "desarrollo = pd.read_csv('indicadores_desarrollo.csv', sep = \",\", names = [\"country_name\", \"country_code\", \"anho\", \"GC_DOD_TOTL_CN\", \n",
        "                                                                           \"GC_DOD_TOTL_GD_ZS\", \"SP_DYN_CBRT_IN\"], skiprows = 1 )"
      ],
      "execution_count": null,
      "outputs": []
    },
    {
      "cell_type": "code",
      "metadata": {
        "colab": {
          "base_uri": "https://localhost:8080/"
        },
        "id": "RrSVNeuAQZEa",
        "outputId": "381b40df-4b2b-4daf-cf00-0dbb2d851fe7"
      },
      "source": [
        "desarrollo_df = sqlContext.createDataFrame(desarrollo)\n",
        "desarrollo_df.show(10)"
      ],
      "execution_count": null,
      "outputs": [
        {
          "output_type": "stream",
          "text": [
            "+------------+------------+-------------+---------------+-------------------+------------------+\n",
            "|country_name|country_code|         anho| GC_DOD_TOTL_CN|  GC_DOD_TOTL_GD_ZS|    SP_DYN_CBRT_IN|\n",
            "+------------+------------+-------------+---------------+-------------------+------------------+\n",
            "|     Albania|         ALB|2014 [YR2014]|   1.0230408E12|  73.32024691984292|            12.259|\n",
            "|     Albania|         ALB|2015 [YR2015]|  1.14550094E12|   79.8644448747259|12.197000000000001|\n",
            "|     Albania|         ALB|2016 [YR2016]|  1.18881449E12|  80.73557483969229|             12.08|\n",
            "|   Australia|         AUS|2014 [YR2014]|        6.747E8|  0.042207528166503|              13.2|\n",
            "|   Australia|         AUS|2015 [YR2015]|      7.62718E8| 0.0469480198522591|              12.9|\n",
            "|   Australia|         AUS|2016 [YR2016]|      9.07555E8|0.05464848252016901|              12.9|\n",
            "| The Bahamas|         BHS|2014 [YR2014]|      5.15842E9|   47.2672793747079|             14.34|\n",
            "| The Bahamas|         BHS|2015 [YR2015]|      5.65515E9|  48.11951703070889|            14.224|\n",
            "| The Bahamas|         BHS|2016 [YR2016]|     6.138814E9| 51.420743148160604|14.130999999999998|\n",
            "|    Barbados|         BRB|2014 [YR2014]|1.2175704025E10|   129.629591844133|10.915999999999999|\n",
            "+------------+------------+-------------+---------------+-------------------+------------------+\n",
            "only showing top 10 rows\n",
            "\n"
          ],
          "name": "stdout"
        }
      ]
    },
    {
      "cell_type": "markdown",
      "metadata": {
        "id": "MMrcVj6oDnHT"
      },
      "source": [
        "##### 2. Número de países distintos en cada dataset. Coinciden?"
      ]
    },
    {
      "cell_type": "code",
      "metadata": {
        "colab": {
          "base_uri": "https://localhost:8080/"
        },
        "id": "orWDB65xbmWn",
        "outputId": "5184c966-2181-47c4-aa9e-bd6d87e33971"
      },
      "source": [
        "deuda_df.select(\"country_name\").distinct().count()"
      ],
      "execution_count": 132,
      "outputs": [
        {
          "output_type": "execute_result",
          "data": {
            "text/plain": [
              "124"
            ]
          },
          "metadata": {
            "tags": []
          },
          "execution_count": 132
        }
      ]
    },
    {
      "cell_type": "code",
      "metadata": {
        "colab": {
          "base_uri": "https://localhost:8080/"
        },
        "id": "vHVQ0hPXbpuK",
        "outputId": "167f69bf-5e11-43fb-d674-8d79bcba28d5"
      },
      "source": [
        "desarrollo_df.select(\"country_name\").distinct().count()"
      ],
      "execution_count": 133,
      "outputs": [
        {
          "output_type": "execute_result",
          "data": {
            "text/plain": [
              "52"
            ]
          },
          "metadata": {
            "tags": []
          },
          "execution_count": 133
        }
      ]
    },
    {
      "cell_type": "markdown",
      "metadata": {
        "id": "PMWjj_F2DnHU"
      },
      "source": [
        "##### 3. Total de deuda contraida por cada pais: total amount of debt (in USD) DT.AMT.MLAT.CD"
      ]
    },
    {
      "cell_type": "code",
      "metadata": {
        "id": "BNwBZa6k75Ll",
        "colab": {
          "base_uri": "https://localhost:8080/"
        },
        "outputId": "382d5e60-17f3-4f53-eeb5-8b47e7d5f6cf"
      },
      "source": [
        "deuda_df.groupby('country_name').agg(F.sum('DT_AMT_MLAT_CD')).show() # si queremos mostrar todos sería .show(124)"
      ],
      "execution_count": 135,
      "outputs": [
        {
          "output_type": "stream",
          "text": [
            "+--------------------+-------------------+\n",
            "|        country_name|sum(DT_AMT_MLAT_CD)|\n",
            "+--------------------+-------------------+\n",
            "|          South Asia|     7.8517399295E9|\n",
            "|                Chad|       9.57387095E7|\n",
            "|            Paraguay|      2.076620309E8|\n",
            "|    Congo, Dem. Rep.|       1.43105462E8|\n",
            "|             Senegal|      1.704379291E8|\n",
            "|          Cabo Verde|       3.99701249E7|\n",
            "|Least developed c...|     4.0842755242E9|\n",
            "|      Macedonia, FYR|      1.859528672E8|\n",
            "|              Guyana|       3.46518065E7|\n",
            "|             Eritrea|       1.54824754E7|\n",
            "|         Philippines|      7.390564273E8|\n",
            "|            Djibouti|       3.42549092E7|\n",
            "|               Tonga|          2791253.2|\n",
            "|                Fiji|          9082442.6|\n",
            "|              Turkey|      2.932698678E9|\n",
            "|              Malawi|       3.56598314E7|\n",
            "|             Comoros|          2182053.1|\n",
            "|         Afghanistan|        3.9107845E7|\n",
            "|            Cambodia|       7.23070018E7|\n",
            "|              Jordan|      2.704987155E8|\n",
            "+--------------------+-------------------+\n",
            "only showing top 20 rows\n",
            "\n"
          ],
          "name": "stdout"
        }
      ]
    },
    {
      "cell_type": "markdown",
      "metadata": {
        "id": "Yv9IO08BDnHU"
      },
      "source": [
        "##### 4. Media de los indicadores de deuda (tabla uno): DT.AMT.BLAT.CD, DT.DIS.BLAT.CD, DT.INT.BLAT.CD"
      ]
    },
    {
      "cell_type": "code",
      "metadata": {
        "colab": {
          "base_uri": "https://localhost:8080/"
        },
        "id": "OBI9AAkVnwlz",
        "outputId": "5448c51c-d7eb-4e54-fd16-7b37d907ce4c"
      },
      "source": [
        "deuda_df.agg(F.mean('DT_AMT_MLAT_CD')).show()"
      ],
      "execution_count": null,
      "outputs": [
        {
          "output_type": "stream",
          "text": [
            "+-------------------+\n",
            "|avg(DT_AMT_MLAT_CD)|\n",
            "+-------------------+\n",
            "| 4.90062193498387E8|\n",
            "+-------------------+\n",
            "\n"
          ],
          "name": "stdout"
        }
      ]
    },
    {
      "cell_type": "markdown",
      "metadata": {
        "id": "eKlcbDiHpO0G"
      },
      "source": [
        "Eliminamos los valores nulos para que no causen problemas al calcular la media"
      ]
    },
    {
      "cell_type": "code",
      "metadata": {
        "id": "oRIP-i7npG8e"
      },
      "source": [
        "deuda_df_rm_na = deuda_df.dropna()"
      ],
      "execution_count": null,
      "outputs": []
    },
    {
      "cell_type": "code",
      "metadata": {
        "colab": {
          "base_uri": "https://localhost:8080/"
        },
        "id": "8lzmif_7ojcm",
        "outputId": "bd4b1010-39c3-4270-d95d-47fe3195ed18"
      },
      "source": [
        "deuda_df_rm_na.agg(F.mean('DT_DIS_BLAT_CD')).show()"
      ],
      "execution_count": null,
      "outputs": [
        {
          "output_type": "stream",
          "text": [
            "+-------------------+\n",
            "|avg(DT_DIS_BLAT_CD)|\n",
            "+-------------------+\n",
            "|     5.4106259761E9|\n",
            "+-------------------+\n",
            "\n"
          ],
          "name": "stdout"
        }
      ]
    },
    {
      "cell_type": "code",
      "metadata": {
        "colab": {
          "base_uri": "https://localhost:8080/"
        },
        "id": "Rn0n-1XaojmU",
        "outputId": "18c0a332-a949-4152-b285-119fac754f40"
      },
      "source": [
        "deuda_df_rm_na.agg(F.mean('DT_INT_BLAT_CD')).show()"
      ],
      "execution_count": null,
      "outputs": [
        {
          "output_type": "stream",
          "text": [
            "+-------------------+\n",
            "|avg(DT_INT_BLAT_CD)|\n",
            "+-------------------+\n",
            "|5.621520963000001E8|\n",
            "+-------------------+\n",
            "\n"
          ],
          "name": "stdout"
        }
      ]
    },
    {
      "cell_type": "markdown",
      "metadata": {
        "id": "rBfTyYJ9DnHV"
      },
      "source": [
        "##### 5. Los 20 paises con DT.AMT.DLXF.CD más alto"
      ]
    },
    {
      "cell_type": "code",
      "metadata": {
        "colab": {
          "base_uri": "https://localhost:8080/"
        },
        "id": "sSNv_qHIRmv8",
        "outputId": "1b271ffa-ea66-41af-d13d-40b9cb6cce02"
      },
      "source": [
        "from pyspark.sql.functions import col, avg, desc, sum\n",
        "deuda_df.select(\"country_name\", \"DT_AMT_DLXF_CD\").sort(desc(\"DT_AMT_DLXF_CD\")).show(20)"
      ],
      "execution_count": 108,
      "outputs": [
        {
          "output_type": "stream",
          "text": [
            "+--------------------+----------------+\n",
            "|        country_name|  DT_AMT_DLXF_CD|\n",
            "+--------------------+----------------+\n",
            "|               China|9.62186208357E10|\n",
            "|              Brazil|9.00418403041E10|\n",
            "|  Russian Federation|6.65897618335E10|\n",
            "|              Turkey|5.15550310058E10|\n",
            "|          South Asia|4.87562958982E10|\n",
            "|               India|3.19235070008E10|\n",
            "|           Indonesia|3.09161126538E10|\n",
            "|          Kazakhstan|2.74820936864E10|\n",
            "|              Mexico| 2.5218503927E10|\n",
            "|Least developed c...|2.51970292994E10|\n",
            "|            IDA only| 2.0483289208E10|\n",
            "|             Romania|1.40137833504E10|\n",
            "|            Colombia|1.19856744387E10|\n",
            "|              Angola|1.10670456281E10|\n",
            "|            Cameroon|1.04048149602E10|\n",
            "|       Venezuela, RB|  9.8786592072E9|\n",
            "|    Egypt, Arab Rep.|  9.6921141769E9|\n",
            "|             Lebanon|  9.5069196696E9|\n",
            "|        South Africa|  9.4742575519E9|\n",
            "|             Vietnam|  8.8735059092E9|\n",
            "+--------------------+----------------+\n",
            "only showing top 20 rows\n",
            "\n"
          ],
          "name": "stdout"
        }
      ]
    },
    {
      "cell_type": "markdown",
      "metadata": {
        "id": "ZdY_s-PyDnHV"
      },
      "source": [
        "##### 6. Pais con los datos informados todos los años."
      ]
    },
    {
      "cell_type": "markdown",
      "metadata": {
        "id": "gXLxidsLTQxd"
      },
      "source": [
        "Vemos los distintos años que hay y el número de veces que aparecen."
      ]
    },
    {
      "cell_type": "code",
      "metadata": {
        "colab": {
          "base_uri": "https://localhost:8080/"
        },
        "id": "L0rXyn4cSNNj",
        "outputId": "2a936e2a-fbff-4fd0-9138-120ccc552605"
      },
      "source": [
        "desarrollo_df.groupBy(\"anho\").count().show()"
      ],
      "execution_count": 110,
      "outputs": [
        {
          "output_type": "stream",
          "text": [
            "+-------------+-----+\n",
            "|         anho|count|\n",
            "+-------------+-----+\n",
            "|2016 [YR2016]|   39|\n",
            "|2014 [YR2014]|   50|\n",
            "|2017 [YR2017]|    1|\n",
            "|2015 [YR2015]|   44|\n",
            "+-------------+-----+\n",
            "\n"
          ],
          "name": "stdout"
        }
      ]
    },
    {
      "cell_type": "markdown",
      "metadata": {
        "id": "KoTSIi7vUSc8"
      },
      "source": [
        "A continuación debemos encontrar si hay algún país que esté en los 4 años"
      ]
    },
    {
      "cell_type": "code",
      "metadata": {
        "colab": {
          "base_uri": "https://localhost:8080/"
        },
        "id": "sEtvH6akTANv",
        "outputId": "4bd7d34d-7e78-4df5-cd6c-b8c159b78595"
      },
      "source": [
        "desarrollo_df.groupBy(\"country_name\").count() \\\n",
        "    .withColumnRenamed(\"count\", \"conteo\") \\\n",
        "    .filter(\"conteo == 4\") \\\n",
        "    .show()"
      ],
      "execution_count": 118,
      "outputs": [
        {
          "output_type": "stream",
          "text": [
            "+------------+------+\n",
            "|country_name|conteo|\n",
            "+------------+------+\n",
            "|      Malawi|     4|\n",
            "+------------+------+\n",
            "\n"
          ],
          "name": "stdout"
        }
      ]
    },
    {
      "cell_type": "markdown",
      "metadata": {
        "id": "DVOkXIs2DnHW"
      },
      "source": [
        "##### 7. Media anual de los distintos indicadores de desarrollo"
      ]
    },
    {
      "cell_type": "code",
      "metadata": {
        "colab": {
          "base_uri": "https://localhost:8080/"
        },
        "id": "xj0s2BtUAmlQ",
        "outputId": "6ca38b6e-b4e0-4dd6-b9b3-59207445b797"
      },
      "source": [
        "desarrollo_df.groupby('anho').agg(F.mean('GC_DOD_TOTL_CN')).show()"
      ],
      "execution_count": null,
      "outputs": [
        {
          "output_type": "stream",
          "text": [
            "+-------------+--------------------+\n",
            "|         anho| avg(GC_DOD_TOTL_CN)|\n",
            "+-------------+--------------------+\n",
            "|2016 [YR2016]|1.588138215480659...|\n",
            "|2014 [YR2014]|1.034427587329532...|\n",
            "|2017 [YR2017]| 2.23985861996269E12|\n",
            "|2015 [YR2015]|1.318244039159025E14|\n",
            "+-------------+--------------------+\n",
            "\n"
          ],
          "name": "stdout"
        }
      ]
    },
    {
      "cell_type": "code",
      "metadata": {
        "colab": {
          "base_uri": "https://localhost:8080/"
        },
        "id": "d8mvm2S_BMHI",
        "outputId": "10d373d1-b96a-428b-8441-087091e69d7e"
      },
      "source": [
        "desarrollo_df.groupby('anho').agg(F.mean('GC_DOD_TOTL_GD_ZS')).show()"
      ],
      "execution_count": null,
      "outputs": [
        {
          "output_type": "stream",
          "text": [
            "+-------------+----------------------+\n",
            "|         anho|avg(GC_DOD_TOTL_GD_ZS)|\n",
            "+-------------+----------------------+\n",
            "|2016 [YR2016]|    58.796949624008356|\n",
            "|2014 [YR2014]|    56.843914344384395|\n",
            "|2017 [YR2017]|       48.659564238322|\n",
            "|2015 [YR2015]|     58.36559834488034|\n",
            "+-------------+----------------------+\n",
            "\n"
          ],
          "name": "stdout"
        }
      ]
    },
    {
      "cell_type": "code",
      "metadata": {
        "colab": {
          "base_uri": "https://localhost:8080/"
        },
        "id": "vO9Akbv1BMPv",
        "outputId": "773ed9cd-4907-4329-e653-ac1a019be15a"
      },
      "source": [
        "desarrollo_df.groupby('anho').agg(F.mean('SP_DYN_CBRT_IN')).show()"
      ],
      "execution_count": null,
      "outputs": [
        {
          "output_type": "stream",
          "text": [
            "+-------------+-------------------+\n",
            "|         anho|avg(SP_DYN_CBRT_IN)|\n",
            "+-------------+-------------------+\n",
            "|2016 [YR2016]| 16.144333333333332|\n",
            "|2014 [YR2014]| 17.582620000000002|\n",
            "|2017 [YR2017]|             34.593|\n",
            "|2015 [YR2015]| 16.798477272727272|\n",
            "+-------------+-------------------+\n",
            "\n"
          ],
          "name": "stdout"
        }
      ]
    },
    {
      "cell_type": "markdown",
      "metadata": {
        "id": "ynaium_BDnHW"
      },
      "source": [
        "##### 8. Podrías decirme el total de deuda acumulada DT.AMT.MLAT.CD por los 10 países con un valor en media menor de SP.DYN.CBRT.IN"
      ]
    },
    {
      "cell_type": "markdown",
      "metadata": {
        "id": "kPMhOci-c-FX"
      },
      "source": [
        "Primero unimos ambos dataframes"
      ]
    },
    {
      "cell_type": "code",
      "metadata": {
        "id": "mlb5_15TBbNw"
      },
      "source": [
        "join = desarrollo_df.join(other=deuda_df, on=[\"country_code\", \"country_name\"], how=\"inner\")"
      ],
      "execution_count": 120,
      "outputs": []
    },
    {
      "cell_type": "markdown",
      "metadata": {
        "id": "m7NrMY7jdAuV"
      },
      "source": [
        "Seleccionamos solo las columnas que nos interesan."
      ]
    },
    {
      "cell_type": "code",
      "metadata": {
        "colab": {
          "base_uri": "https://localhost:8080/"
        },
        "id": "qIQ3kaAHVHXn",
        "outputId": "f0fbf151-e551-4cc4-d5df-5267a41c56c0"
      },
      "source": [
        "join_select = join.select(\"country_name\", \"DT_AMT_MLAT_CD\", \"SP_DYN_CBRT_IN\")\n",
        "join_select.show()"
      ],
      "execution_count": 122,
      "outputs": [
        {
          "output_type": "stream",
          "text": [
            "+---------------+--------------+------------------+\n",
            "|   country_name|DT_AMT_MLAT_CD|    SP_DYN_CBRT_IN|\n",
            "+---------------+--------------+------------------+\n",
            "|        Jamaica|  1.74427648E8|            16.814|\n",
            "|        Jamaica|  1.74427648E8|            16.633|\n",
            "|        Jamaica|  1.74427648E8|             16.46|\n",
            "|Kyrgyz Republic|  7.52780372E7|              27.7|\n",
            "|Kyrgyz Republic|  7.52780372E7|              27.4|\n",
            "|Kyrgyz Republic|  7.52780372E7|              26.0|\n",
            "|       Colombia|1.1009075536E9|            15.725|\n",
            "|       Colombia|1.1009075536E9|            15.515|\n",
            "|       Colombia|1.1009075536E9|            15.308|\n",
            "|    Philippines| 7.390564273E8|            22.935|\n",
            "|      Sri Lanka| 4.497719611E8|            16.849|\n",
            "|      Sri Lanka| 4.497719611E8|            16.609|\n",
            "|        Albania| 1.821976167E8|            12.259|\n",
            "|        Albania| 1.821976167E8|12.197000000000001|\n",
            "|        Albania| 1.821976167E8|             12.08|\n",
            "|         Brazil|2.5143187416E9|            14.624|\n",
            "|         Brazil|2.5143187416E9|14.472000000000001|\n",
            "|         Brazil|2.5143187416E9|            14.307|\n",
            "|        Georgia| 1.440624015E8|            14.165|\n",
            "|        Georgia| 1.440624015E8|            14.078|\n",
            "+---------------+--------------+------------------+\n",
            "only showing top 20 rows\n",
            "\n"
          ],
          "name": "stdout"
        }
      ]
    },
    {
      "cell_type": "markdown",
      "metadata": {
        "id": "LGEQ7HwmdiFv"
      },
      "source": [
        "Agrupamos por país y deuda acumulada para que no haya repetidos y calculamos la media de la tasa de nacimiento."
      ]
    },
    {
      "cell_type": "code",
      "metadata": {
        "colab": {
          "base_uri": "https://localhost:8080/"
        },
        "id": "lKWrKsxZYVJa",
        "outputId": "ef80eef8-f73a-4b10-d0e5-385a36a3249d"
      },
      "source": [
        "join_select_grouped = join_select.groupBy(\"country_name\", \"DT_AMT_MLAT_CD\").agg(avg(\"SP_DYN_CBRT_IN\"))\n",
        "join_select_grouped.show()"
      ],
      "execution_count": 125,
      "outputs": [
        {
          "output_type": "stream",
          "text": [
            "+--------------------+--------------+-------------------+\n",
            "|        country_name|DT_AMT_MLAT_CD|avg(SP_DYN_CBRT_IN)|\n",
            "+--------------------+--------------+-------------------+\n",
            "|     Kyrgyz Republic|  7.52780372E7|  27.03333333333333|\n",
            "|         El Salvador| 2.989396871E8| 18.733999999999998|\n",
            "|    Papua New Guinea|   7.8345326E7|            28.1685|\n",
            "|              Bhutan|  1.73904205E7|             17.791|\n",
            "|             Albania| 1.821976167E8| 12.178666666666667|\n",
            "|             Ukraine|1.0724728303E9|               10.6|\n",
            "|              Jordan| 2.704987155E8|             24.305|\n",
            "|              Turkey| 2.932698678E9| 16.717333333333332|\n",
            "|         Philippines| 7.390564273E8|             22.935|\n",
            "|           St. Lucia|  1.50192163E7|             12.502|\n",
            "|           Sri Lanka| 4.497719611E8|             16.729|\n",
            "|             Belarus|  5.95438826E8| 12.466666666666667|\n",
            "|St. Vincent and t...|  2.16156007E7|             15.011|\n",
            "|     Solomon Islands|     3952828.9| 33.525666666666666|\n",
            "|             Georgia| 1.440624015E8|             14.056|\n",
            "|  Russian Federation|    1.416695E8| 13.166666666666666|\n",
            "|              Zambia|  5.30689649E7|            38.2975|\n",
            "|              Belize|  2.96833265E7| 22.066999999999997|\n",
            "|             Moldova| 1.358428655E8| 10.604333333333335|\n",
            "|            Thailand|  3.90715715E7|            10.9175|\n",
            "+--------------------+--------------+-------------------+\n",
            "only showing top 20 rows\n",
            "\n"
          ],
          "name": "stdout"
        }
      ]
    },
    {
      "cell_type": "markdown",
      "metadata": {
        "id": "5rIZGgjCeTCc"
      },
      "source": [
        "Ordenamos por tasa de natalidad de menor a mayor y nos quedamos solo con los 10 primeros."
      ]
    },
    {
      "cell_type": "code",
      "metadata": {
        "id": "6syUnf3SFxsp",
        "colab": {
          "base_uri": "https://localhost:8080/"
        },
        "outputId": "1d3bf649-7f9a-4b4b-9d74-5715dc43eb5d"
      },
      "source": [
        "join_select_grouped = join_select_grouped.sort(\"avg(SP_DYN_CBRT_IN)\").limit(10)\n",
        "join_select_grouped.show()"
      ],
      "execution_count": 126,
      "outputs": [
        {
          "output_type": "stream",
          "text": [
            "+--------------------+--------------+-------------------+\n",
            "|        country_name|DT_AMT_MLAT_CD|avg(SP_DYN_CBRT_IN)|\n",
            "+--------------------+--------------+-------------------+\n",
            "|             Ukraine|1.0724728303E9|               10.6|\n",
            "|             Moldova| 1.358428655E8| 10.604333333333335|\n",
            "|            Thailand|  3.90715715E7|            10.9175|\n",
            "|             Albania| 1.821976167E8| 12.178666666666667|\n",
            "|             Belarus|  5.95438826E8| 12.466666666666667|\n",
            "|           St. Lucia|  1.50192163E7|             12.502|\n",
            "|  Russian Federation|    1.416695E8| 13.166666666666666|\n",
            "|             Georgia| 1.440624015E8|             14.056|\n",
            "|              Brazil|2.5143187416E9| 14.467666666666668|\n",
            "|St. Vincent and t...|  2.16156007E7|             15.011|\n",
            "+--------------------+--------------+-------------------+\n",
            "\n"
          ],
          "name": "stdout"
        }
      ]
    },
    {
      "cell_type": "markdown",
      "metadata": {
        "id": "mQAW38nGel48"
      },
      "source": [
        "Sumamos la deuda acumulada de los anteriores y obtenemos la respuesta final."
      ]
    },
    {
      "cell_type": "code",
      "metadata": {
        "colab": {
          "base_uri": "https://localhost:8080/"
        },
        "id": "931pMed8ZGSp",
        "outputId": "fc0bef66-4614-476d-c180-c6ba32b89189"
      },
      "source": [
        "join_select_grouped.select(F.sum(\"DT_AMT_MLAT_CD\")).show()"
      ],
      "execution_count": 137,
      "outputs": [
        {
          "output_type": "stream",
          "text": [
            "+-------------------+\n",
            "|sum(DT_AMT_MLAT_CD)|\n",
            "+-------------------+\n",
            "|4.861709170099999E9|\n",
            "+-------------------+\n",
            "\n"
          ],
          "name": "stdout"
        }
      ]
    },
    {
      "cell_type": "markdown",
      "metadata": {
        "id": "aLFu3iXPDnHW"
      },
      "source": [
        "##### 9. ¿Hay alguna relación entre los nacimientos y el indicador DT.AMT.DLXF.CD? ¿Cómo podrías demostrarlo?"
      ]
    }
  ]
}