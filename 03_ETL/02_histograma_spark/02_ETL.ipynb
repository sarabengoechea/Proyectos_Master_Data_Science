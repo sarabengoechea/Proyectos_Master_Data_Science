{
  "nbformat": 4,
  "nbformat_minor": 0,
  "metadata": {
    "colab": {
      "name": "tarea_2_ETL.ipynb",
      "provenance": [],
      "collapsed_sections": []
    },
    "kernelspec": {
      "name": "python3",
      "display_name": "Python 3"
    }
  },
  "cells": [
    {
      "cell_type": "markdown",
      "metadata": {
        "id": "WA9baIe7vjqn"
      },
      "source": [
        "# Histograma de puntos visitante\n",
        "Sara Bengoechea Rodríguez"
      ]
    },
    {
      "cell_type": "code",
      "metadata": {
        "id": "RAdt-qznvmNE"
      },
      "source": [
        "!apt-get install openjdk-8-jdk-headless -qq > /dev/null\n",
        "!wget -q https://www-us.apache.org/dist/spark/spark-2.4.7/spark-2.4.7-bin-hadoop2.7.tgz\n",
        "!tar xf spark-2.4.7-bin-hadoop2.7.tgz #descomprime el fichero\n",
        "!pip install -q findspark #instala spark\n",
        "\n",
        "import os\n",
        "os.environ[\"JAVA_HOME\"] = \"/usr/lib/jvm/java-8-openjdk-amd64\" #funciones dels sistema de python para cambiar variables de entorno y que funcione\n",
        "os.environ[\"SPARK_HOME\"] = \"/content/spark-2.4.7-bin-hadoop2.7\"\n",
        "\n",
        "import findspark #para tener un contexto spark donde trabajar\n",
        "findspark.init()\n",
        "from pyspark import SparkContext\n",
        "sc = SparkContext(\"local\", \"First App\").getOrCreate()"
      ],
      "execution_count": 1,
      "outputs": []
    },
    {
      "cell_type": "markdown",
      "metadata": {
        "id": "0uDtX_huxGJJ"
      },
      "source": [
        "Cargamos los datos en un rdd"
      ]
    },
    {
      "cell_type": "code",
      "metadata": {
        "id": "FfRf2Y0Rvxgy"
      },
      "source": [
        "data = sc.textFile(\"partidosLigaNBA.csv\")"
      ],
      "execution_count": 2,
      "outputs": []
    },
    {
      "cell_type": "markdown",
      "metadata": {
        "id": "wSneKQFsxJ0-"
      },
      "source": [
        "Comprobamos el número de elementos"
      ]
    },
    {
      "cell_type": "code",
      "metadata": {
        "colab": {
          "base_uri": "https://localhost:8080/"
        },
        "id": "D8qT4CtG2VJG",
        "outputId": "75429080-e065-4571-fa3c-849b47a80d89"
      },
      "source": [
        "data.count()"
      ],
      "execution_count": 3,
      "outputs": [
        {
          "output_type": "execute_result",
          "data": {
            "text/plain": [
              "12908"
            ]
          },
          "metadata": {
            "tags": []
          },
          "execution_count": 3
        }
      ]
    },
    {
      "cell_type": "markdown",
      "metadata": {
        "id": "UphxDpvExRNV"
      },
      "source": [
        "Visualizamos las 5 primeras filas"
      ]
    },
    {
      "cell_type": "code",
      "metadata": {
        "colab": {
          "base_uri": "https://localhost:8080/"
        },
        "id": "pe_73T7nv5J1",
        "outputId": "de65bb1c-8a89-49c4-8f49-ee0830e44e14"
      },
      "source": [
        "data.take(5)"
      ],
      "execution_count": 4,
      "outputs": [
        {
          "output_type": "execute_result",
          "data": {
            "text/plain": [
              "['Date:Start..ET.:Visitor.Neutral:PTS:Home.Neutral:PTS.1',\n",
              " 'Tue, Oct 30, 2007:\"7:30 pm\":Utah Jazz:117:Golden State Warriors:96',\n",
              " 'Tue, Oct 30, 2007:\"7:30 pm\":Houston Rockets:95:Los Angeles Lakers:93',\n",
              " 'Tue, Oct 30, 2007:\"7:00 pm\":Portland Trail Blazers:97:San Antonio Spurs:106',\n",
              " 'Wed, Oct 31, 2007:\"8:00 pm\":Dallas Mavericks:92:Cleveland Cavaliers:74']"
            ]
          },
          "metadata": {
            "tags": []
          },
          "execution_count": 4
        }
      ]
    },
    {
      "cell_type": "markdown",
      "metadata": {
        "id": "eUdSCuRDv-J3"
      },
      "source": [
        "Dado que hay una cabecera que no necesitamos, la eliminamos"
      ]
    },
    {
      "cell_type": "code",
      "metadata": {
        "colab": {
          "base_uri": "https://localhost:8080/"
        },
        "id": "pygRE83Tv-tn",
        "outputId": "70b847c6-3e96-4a24-c495-da04b5fa9ff8"
      },
      "source": [
        "header_data = data.take(1)[0] #guardamos en header_data el header que queremos eliminar\n",
        "data_processed = data.filter(lambda x: x != header_data) #creamos una funcion que elimine la cabecera\n",
        "data_processed.take(5) # con take ejecutamos la función anterior y visualizamos que se ha realizado el cambio"
      ],
      "execution_count": 5,
      "outputs": [
        {
          "output_type": "execute_result",
          "data": {
            "text/plain": [
              "['Tue, Oct 30, 2007:\"7:30 pm\":Utah Jazz:117:Golden State Warriors:96',\n",
              " 'Tue, Oct 30, 2007:\"7:30 pm\":Houston Rockets:95:Los Angeles Lakers:93',\n",
              " 'Tue, Oct 30, 2007:\"7:00 pm\":Portland Trail Blazers:97:San Antonio Spurs:106',\n",
              " 'Wed, Oct 31, 2007:\"8:00 pm\":Dallas Mavericks:92:Cleveland Cavaliers:74',\n",
              " 'Wed, Oct 31, 2007:\"8:30 pm\":Seattle SuperSonics:103:Denver Nuggets:120']"
            ]
          },
          "metadata": {
            "tags": []
          },
          "execution_count": 5
        }
      ]
    },
    {
      "cell_type": "markdown",
      "metadata": {
        "id": "VRgz0wGX0sjB"
      },
      "source": [
        "A continuación aplicamos el método map con una función split en su interior para separar los elementos por \":\" para poder trabajar con ellos"
      ]
    },
    {
      "cell_type": "code",
      "metadata": {
        "colab": {
          "base_uri": "https://localhost:8080/"
        },
        "id": "MNmP82MswHzJ",
        "outputId": "2b344772-41af-4553-d330-c3bf403c6293"
      },
      "source": [
        "data_processed = data.filter(lambda x: x != header_data).map(lambda x: x.split(\":\")) # Función anterior pero separando por :\n",
        "data_processed.take(5) # ejecutamos con take"
      ],
      "execution_count": 6,
      "outputs": [
        {
          "output_type": "execute_result",
          "data": {
            "text/plain": [
              "[['Tue, Oct 30, 2007',\n",
              "  '\"7',\n",
              "  '30 pm\"',\n",
              "  'Utah Jazz',\n",
              "  '117',\n",
              "  'Golden State Warriors',\n",
              "  '96'],\n",
              " ['Tue, Oct 30, 2007',\n",
              "  '\"7',\n",
              "  '30 pm\"',\n",
              "  'Houston Rockets',\n",
              "  '95',\n",
              "  'Los Angeles Lakers',\n",
              "  '93'],\n",
              " ['Tue, Oct 30, 2007',\n",
              "  '\"7',\n",
              "  '00 pm\"',\n",
              "  'Portland Trail Blazers',\n",
              "  '97',\n",
              "  'San Antonio Spurs',\n",
              "  '106'],\n",
              " ['Wed, Oct 31, 2007',\n",
              "  '\"8',\n",
              "  '00 pm\"',\n",
              "  'Dallas Mavericks',\n",
              "  '92',\n",
              "  'Cleveland Cavaliers',\n",
              "  '74'],\n",
              " ['Wed, Oct 31, 2007',\n",
              "  '\"8',\n",
              "  '30 pm\"',\n",
              "  'Seattle SuperSonics',\n",
              "  '103',\n",
              "  'Denver Nuggets',\n",
              "  '120']]"
            ]
          },
          "metadata": {
            "tags": []
          },
          "execution_count": 6
        }
      ]
    },
    {
      "cell_type": "markdown",
      "metadata": {
        "id": "1EN9DDFgwOsK"
      },
      "source": [
        "Seleccionamos el elemento del vector generado, que está en formato string y hace referencia a los puntos visitantes y lo transformamos a numérico (int)  y filtramos aquellos casos que no sean\n",
        "\n",
        "Por línea lo que hacemos es:\n",
        "- Quitamos header\n",
        "- Función split para separar por :\n",
        "- filtramos las observaciones que son dígitos\n",
        "- Convertimos a numérico (int)"
      ]
    },
    {
      "cell_type": "code",
      "metadata": {
        "colab": {
          "base_uri": "https://localhost:8080/"
        },
        "id": "JX9l8gjjwQSe",
        "outputId": "18df54c8-7a3e-4043-a1bb-c5becc4d28f4"
      },
      "source": [
        "data_processed = data.filter(lambda a: a != header_data) \\\n",
        "                      .map(lambda a: a.split(\":\")[-1]) \\\n",
        "                      .filter(lambda a_puntos_visitante: a_puntos_visitante.isdigit()) \\\n",
        "                      .map(lambda b_puntos_visitante: int(b_puntos_visitante))\n",
        "\n",
        "data_processed.take(15) # Con take se ejecuta la función"
      ],
      "execution_count": 7,
      "outputs": [
        {
          "output_type": "execute_result",
          "data": {
            "text/plain": [
              "[96, 93, 106, 74, 120, 119, 101, 112, 104, 102, 106, 80, 99, 95, 101]"
            ]
          },
          "metadata": {
            "tags": []
          },
          "execution_count": 7
        }
      ]
    },
    {
      "cell_type": "markdown",
      "metadata": {
        "id": "8c1pFIZ_k_Sc"
      },
      "source": [
        "Aplicaremos una función map que transforme cada número en uno de los intervalos del histograma (que serán los distintintos cuartiles)"
      ]
    },
    {
      "cell_type": "markdown",
      "metadata": {
        "id": "RJMTJRqvlH4x"
      },
      "source": [
        "Con las siguientes líneas de código obtenemos los valores de cada cuartil"
      ]
    },
    {
      "cell_type": "code",
      "metadata": {
        "id": "DlTzMetS6CSY"
      },
      "source": [
        "x = data_processed.collect()"
      ],
      "execution_count": 8,
      "outputs": []
    },
    {
      "cell_type": "code",
      "metadata": {
        "id": "ExLmsbDv6JCO"
      },
      "source": [
        "x.sort()"
      ],
      "execution_count": 9,
      "outputs": []
    },
    {
      "cell_type": "code",
      "metadata": {
        "colab": {
          "base_uri": "https://localhost:8080/"
        },
        "id": "t_4_IAre51Uz",
        "outputId": "786cc1eb-a12e-4657-bc98-67b6334d490b"
      },
      "source": [
        "# Los valores inferiores al valor resultante pertenecerán al primer cuartil\n",
        "\n",
        "x[int(len(x)*.25)]"
      ],
      "execution_count": 10,
      "outputs": [
        {
          "output_type": "execute_result",
          "data": {
            "text/plain": [
              "93"
            ]
          },
          "metadata": {
            "tags": []
          },
          "execution_count": 10
        }
      ]
    },
    {
      "cell_type": "markdown",
      "metadata": {
        "id": "z0TaQHLZlo6A"
      },
      "source": [
        ""
      ]
    },
    {
      "cell_type": "code",
      "metadata": {
        "colab": {
          "base_uri": "https://localhost:8080/"
        },
        "id": "xM54oEYM6Vat",
        "outputId": "93008deb-340c-4d2f-91e2-737e6f78b702"
      },
      "source": [
        "# # Los valores inferiores al valor resultante pertenecerán al segundo cuartil (mediana)\n",
        "\n",
        "x[int(len(x)*.50)]"
      ],
      "execution_count": 11,
      "outputs": [
        {
          "output_type": "execute_result",
          "data": {
            "text/plain": [
              "101"
            ]
          },
          "metadata": {
            "tags": []
          },
          "execution_count": 11
        }
      ]
    },
    {
      "cell_type": "code",
      "metadata": {
        "colab": {
          "base_uri": "https://localhost:8080/"
        },
        "id": "WwNwcrbJ6agB",
        "outputId": "b0fed6ac-1306-47af-bf89-230e97c81766"
      },
      "source": [
        "# Los valores inferiores al valor resultante pertenecerán al tercer cuartil y los superiores al cuarto\n",
        "\n",
        "x[int(len(x)*.75)]\n"
      ],
      "execution_count": 12,
      "outputs": [
        {
          "output_type": "execute_result",
          "data": {
            "text/plain": [
              "110"
            ]
          },
          "metadata": {
            "tags": []
          },
          "execution_count": 12
        }
      ]
    },
    {
      "cell_type": "markdown",
      "metadata": {
        "id": "QitzYjPFls8J"
      },
      "source": [
        "Creamos una función llamada cuartil con la que se obtengan los cuartiles"
      ]
    },
    {
      "cell_type": "code",
      "metadata": {
        "id": "Lj23C2An6wF-"
      },
      "source": [
        "def cuartil(x):\n",
        "  if x<=93:\n",
        "    return 'cuartil 1'\n",
        "  elif x <=101:\n",
        "    return 'cuartil 2'\n",
        "  elif x<=110:\n",
        "    return 'cuartil 3'\n",
        "  elif x> 110:\n",
        "    return 'cuartil 4'\n"
      ],
      "execution_count": 13,
      "outputs": []
    },
    {
      "cell_type": "markdown",
      "metadata": {
        "id": "MDKE_4e4l-rK"
      },
      "source": [
        "Comprobamos que funciona introduciendo el número 95 y viendo que se asigna al segundo cuartil"
      ]
    },
    {
      "cell_type": "code",
      "metadata": {
        "colab": {
          "base_uri": "https://localhost:8080/",
          "height": 35
        },
        "id": "OOU8pwxxwd7y",
        "outputId": "6e6b0448-64bb-428f-ba87-17b927cb2a99"
      },
      "source": [
        "cuartil(95)"
      ],
      "execution_count": 14,
      "outputs": [
        {
          "output_type": "execute_result",
          "data": {
            "application/vnd.google.colaboratory.intrinsic+json": {
              "type": "string"
            },
            "text/plain": [
              "'cuartil 2'"
            ]
          },
          "metadata": {
            "tags": []
          },
          "execution_count": 14
        }
      ]
    },
    {
      "cell_type": "markdown",
      "metadata": {
        "id": "j8LdmJnYoFVu"
      },
      "source": [
        "Creamos una lista con cada cuartil y su frecuencia. El key es el intervalo (cuartil correspondiente) y la frecuencia es el valor valor."
      ]
    },
    {
      "cell_type": "code",
      "metadata": {
        "id": "notvHouswiWN"
      },
      "source": [
        "data_processed_cuartil = data.filter(lambda a: a != header_data) \\\n",
        "                      .map(lambda a: a.split(\":\")[-1]) \\\n",
        "                      .filter(lambda a_puntos_visitante: a_puntos_visitante.isdigit()) \\\n",
        "                      .map(lambda b_puntos_visitante: int(b_puntos_visitante)) \\\n",
        "                      .map(lambda x : (cuartil(x),1)) \\\n",
        "                      .reduceByKey(lambda a, b: a + b) \\\n",
        "                      .collect()"
      ],
      "execution_count": 16,
      "outputs": []
    },
    {
      "cell_type": "markdown",
      "metadata": {
        "id": "NBV9TmerodTa"
      },
      "source": [
        "Comprobamos que se haya ejecutado"
      ]
    },
    {
      "cell_type": "code",
      "metadata": {
        "colab": {
          "base_uri": "https://localhost:8080/"
        },
        "id": "zxFt7_Mwwldy",
        "outputId": "887b250d-80af-45ae-8aab-3d7fbde43203"
      },
      "source": [
        "data_processed_cuartil"
      ],
      "execution_count": 17,
      "outputs": [
        {
          "output_type": "execute_result",
          "data": {
            "text/plain": [
              "[('cuartil 2', 3196),\n",
              " ('cuartil 1', 3261),\n",
              " ('cuartil 3', 3464),\n",
              " ('cuartil 4', 2976)]"
            ]
          },
          "metadata": {
            "tags": []
          },
          "execution_count": 17
        }
      ]
    },
    {
      "cell_type": "markdown",
      "metadata": {
        "id": "OYh13sK1oovy"
      },
      "source": [
        "Ordenamos de manera ascendente"
      ]
    },
    {
      "cell_type": "code",
      "metadata": {
        "id": "7BNZlbQgwplX"
      },
      "source": [
        "data_processed_cuartil.sort()"
      ],
      "execution_count": 18,
      "outputs": []
    },
    {
      "cell_type": "code",
      "metadata": {
        "colab": {
          "base_uri": "https://localhost:8080/"
        },
        "id": "8AN_qpmBqTnG",
        "outputId": "54a000a0-0483-4871-a936-3e3fe84ccb0c"
      },
      "source": [
        "data_processed_cuartil"
      ],
      "execution_count": 19,
      "outputs": [
        {
          "output_type": "execute_result",
          "data": {
            "text/plain": [
              "[('cuartil 1', 3261),\n",
              " ('cuartil 2', 3196),\n",
              " ('cuartil 3', 3464),\n",
              " ('cuartil 4', 2976)]"
            ]
          },
          "metadata": {
            "tags": []
          },
          "execution_count": 19
        }
      ]
    },
    {
      "cell_type": "markdown",
      "metadata": {
        "id": "T7rZY5nApGHS"
      },
      "source": [
        "Utilizamos un len para sacar el histograma"
      ]
    },
    {
      "cell_type": "code",
      "metadata": {
        "id": "3_CrhZARwrlC"
      },
      "source": [
        "import numpy as np\n",
        "import matplotlib.pyplot as plt"
      ],
      "execution_count": 20,
      "outputs": []
    },
    {
      "cell_type": "code",
      "metadata": {
        "colab": {
          "base_uri": "https://localhost:8080/",
          "height": 350
        },
        "id": "kVvzstQenISl",
        "outputId": "80d055f2-0ff5-49e6-f60e-58ed101cf6f5"
      },
      "source": [
        "labels, ys = zip(*data_processed_cuartil)\n",
        "xs = np.arange(len(labels)) \n",
        "width = 1\n",
        "\n",
        "plt.bar(xs, ys, width, align='center')\n",
        "\n",
        "plt.xticks(xs, labels) #Replace default x-ticks with xs, then replace xs with labels\n",
        "plt.yticks(ys)"
      ],
      "execution_count": 21,
      "outputs": [
        {
          "output_type": "execute_result",
          "data": {
            "text/plain": [
              "([<matplotlib.axis.YTick at 0x7f9eafe7aa20>,\n",
              "  <matplotlib.axis.YTick at 0x7f9eaeeb0ac8>,\n",
              "  <matplotlib.axis.YTick at 0x7f9eae86cd68>,\n",
              "  <matplotlib.axis.YTick at 0x7f9eaefce198>],\n",
              " <a list of 4 Text major ticklabel objects>)"
            ]
          },
          "metadata": {
            "tags": []
          },
          "execution_count": 21
        },
        {
          "output_type": "display_data",
          "data": {
            "image/png": "[encoded data removed]",
            "text/plain": [
              "<Figure size 432x288 with 1 Axes>"
            ]
          },
          "metadata": {
            "tags": [],
            "needs_background": "light"
          }
        }
      ]
    },
    {
      "cell_type": "markdown",
      "metadata": {
        "id": "hLaSBXIBpSIQ"
      },
      "source": [
        "Dado que así no se visualiza bien, creamos un diccionario con los 4 cuartiles y usamos plt.bar para visualizarlo de otra manera"
      ]
    },
    {
      "cell_type": "code",
      "metadata": {
        "id": "mHPhDFV_Vz6-"
      },
      "source": [
        "dictionary = {'cuartil 1': 3261, 'cuartil 2': 3196, 'cuartil 3': 3464, 'cuartil 4': 2976}"
      ],
      "execution_count": 22,
      "outputs": []
    },
    {
      "cell_type": "code",
      "metadata": {
        "colab": {
          "base_uri": "https://localhost:8080/",
          "height": 265
        },
        "id": "ZrCPCcTQVpEI",
        "outputId": "f55476f2-5268-4923-fc4c-d4ea8368ff04"
      },
      "source": [
        "plt.bar(list(dictionary.keys()), dictionary.values())\n",
        "plt.show()"
      ],
      "execution_count": 23,
      "outputs": [
        {
          "output_type": "display_data",
          "data": {
            "image/png": "[encoded data removed]",
            "text/plain": [
              "<Figure size 432x288 with 1 Axes>"
            ]
          },
          "metadata": {
            "tags": [],
            "needs_background": "light"
          }
        }
      ]
    }
  ]
}